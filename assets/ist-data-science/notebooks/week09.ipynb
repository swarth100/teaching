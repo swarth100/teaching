{
 "cells": [
  {
   "cell_type": "markdown",
   "id": "58a1c952-5d6d-4ee1-b634-466ec3f89d58",
   "metadata": {},
   "source": [
    "#### Ex 9.0"
   ]
  },
  {
   "cell_type": "code",
   "execution_count": null,
   "id": "c44585f5-d21f-4dad-8e66-a5e017f5cb75",
   "metadata": {},
   "outputs": [],
   "source": []
  },
  {
   "cell_type": "markdown",
   "id": "c460114e-ab00-4597-bf25-efee429965ff",
   "metadata": {},
   "source": [
    "#### Ex 9.1"
   ]
  },
  {
   "cell_type": "code",
   "execution_count": null,
   "id": "d8289be7-2906-4221-98ac-b77c91d690d8",
   "metadata": {},
   "outputs": [],
   "source": [
    "data = [1, 3, 5, 7, 9]\n",
    "letters = [\"A\", \"F\", \"H\", \"L\", \"Z\"]\n",
    "\n",
    "_______"
   ]
  },
  {
   "cell_type": "markdown",
   "id": "44b741f3-a574-4bdc-93e8-a6b125487c1f",
   "metadata": {},
   "source": [
    "#### Ex 9.2"
   ]
  },
  {
   "cell_type": "code",
   "execution_count": null,
   "id": "54462a39-ab37-4706-8a12-349d20289d68",
   "metadata": {},
   "outputs": [],
   "source": []
  },
  {
   "cell_type": "markdown",
   "id": "f7ce2c28-28de-4904-804e-c1b9de56ae22",
   "metadata": {},
   "source": [
    "#### Ex 9.3"
   ]
  },
  {
   "cell_type": "code",
   "execution_count": null,
   "id": "c58cdb2f-2e9b-4005-9b0d-5b8d1ea75df9",
   "metadata": {},
   "outputs": [],
   "source": []
  },
  {
   "cell_type": "markdown",
   "id": "6d511296-f17e-46df-9082-e6f49cec3a42",
   "metadata": {},
   "source": [
    "#### Ex 9.4\n",
    "\n",
    "Use `loc` to select the passenger at index 15"
   ]
  },
  {
   "cell_type": "code",
   "execution_count": null,
   "id": "eb01e914-f13f-4a42-bcb7-1b510271a207",
   "metadata": {},
   "outputs": [],
   "source": []
  },
  {
   "cell_type": "markdown",
   "id": "ddc33a8f-8e41-40e1-8018-f70510353bd3",
   "metadata": {},
   "source": [
    "#### Ex 9.5\n",
    "\n",
    "Use `loc` to select the passengers between index 6 and index 9 (inclusive)"
   ]
  },
  {
   "cell_type": "code",
   "execution_count": null,
   "id": "ad2c51ac-460f-4172-98ff-614ce3f99f70",
   "metadata": {},
   "outputs": [],
   "source": []
  },
  {
   "cell_type": "markdown",
   "id": "98580ace-aea2-489b-bf2c-1c9243512be6",
   "metadata": {},
   "source": [
    "#### Ex 9.6\n",
    "\n",
    "Use `loc` to select the last passenger in the dataframe `df`"
   ]
  },
  {
   "cell_type": "code",
   "execution_count": null,
   "id": "6e7f7111-d798-4708-a49f-e012737310f5",
   "metadata": {},
   "outputs": [],
   "source": []
  },
  {
   "cell_type": "markdown",
   "id": "3704dd26-d53f-4b8f-9a55-7f7b1eb17049",
   "metadata": {},
   "source": [
    "#### Ex 9.7\n",
    "\n",
    "Use `loc` to select the first 10 rows of `df`."
   ]
  },
  {
   "cell_type": "code",
   "execution_count": null,
   "id": "577a545b-ccc4-4974-bed9-8afe24dd9b1b",
   "metadata": {},
   "outputs": [],
   "source": []
  },
  {
   "cell_type": "markdown",
   "id": "3daa9078-2005-4e2e-8616-2ee418a33d0c",
   "metadata": {},
   "source": [
    "#### Ex 9.8\n",
    "\n",
    "Use `loc` to select the first 10 rows of `df` **and** only include the `'Name'` and `'Age'` columns in your selection."
   ]
  },
  {
   "cell_type": "code",
   "execution_count": null,
   "id": "7c4596be-1eb7-4560-8e98-a85c0451f5b7",
   "metadata": {},
   "outputs": [],
   "source": []
  },
  {
   "cell_type": "markdown",
   "id": "1d08ebc0-07b0-42c8-b191-3d1270e3c6f5",
   "metadata": {},
   "source": [
    "#### Ex 9.9\n",
    "\n",
    "Use `loc` to select all rows of `df` **and** only include the `'Age'`, `'Fare'` and ``Pclass`` columns in your selection."
   ]
  },
  {
   "cell_type": "code",
   "execution_count": null,
   "id": "81850108-9cb4-4357-88aa-c418fa793699",
   "metadata": {},
   "outputs": [],
   "source": []
  },
  {
   "cell_type": "markdown",
   "id": "5560d70a-e276-43cf-b1d8-922e9f3f9492",
   "metadata": {},
   "source": [
    "#### Ex 9.10\n",
    "\n",
    "Using boolean indexing select all the passengers who are older than 30"
   ]
  },
  {
   "cell_type": "code",
   "execution_count": null,
   "id": "c37669b8-8b89-487c-a664-0c946338c373",
   "metadata": {},
   "outputs": [],
   "source": []
  },
  {
   "cell_type": "markdown",
   "id": "f2deabc7-c67c-4303-b575-a80f27b26f2f",
   "metadata": {},
   "source": [
    "#### Ex 9.11\n",
    "\n",
    "Using boolean indexing select all the passengers who are in first class"
   ]
  },
  {
   "cell_type": "code",
   "execution_count": null,
   "id": "df8fb542-4b42-4b87-a49e-d92cee2a0226",
   "metadata": {},
   "outputs": [],
   "source": []
  },
  {
   "cell_type": "markdown",
   "id": "5029feea-b80f-4d4d-8957-e1abb45eeefd",
   "metadata": {},
   "source": [
    "#### Ex 9.12\n",
    "\n",
    "Using boolean indexing, select passengers who have no siblings/spouses (`SibSp` is `0`)"
   ]
  },
  {
   "cell_type": "code",
   "execution_count": null,
   "id": "7e1807b7-752f-4952-9cf4-d58ab8a25c6f",
   "metadata": {},
   "outputs": [],
   "source": []
  },
  {
   "cell_type": "markdown",
   "id": "19ecc533-8ed6-4537-aa22-32d60bd0b2da",
   "metadata": {},
   "source": [
    "#### Ex 9.13\n",
    "\n",
    "Using boolean indexing, select passengers who paid a fare greater than `$100`"
   ]
  },
  {
   "cell_type": "code",
   "execution_count": null,
   "id": "d698b322-a88a-4b35-86d6-db7637827412",
   "metadata": {},
   "outputs": [],
   "source": []
  },
  {
   "cell_type": "markdown",
   "id": "177a91e1-2613-45a7-b4b2-d33d6ce9105b",
   "metadata": {},
   "source": [
    "#### Ex 9.14\n",
    "\n",
    "Using boolean indexing, select passengers who survived the Titanic disaster (`Survived` is 1)"
   ]
  },
  {
   "cell_type": "code",
   "execution_count": null,
   "id": "abdaa4cd-b29f-4d52-b17c-66ce96327e0e",
   "metadata": {},
   "outputs": [],
   "source": []
  },
  {
   "cell_type": "code",
   "execution_count": null,
   "id": "9767fe05-7f43-4984-8883-bfdc218ed4d3",
   "metadata": {},
   "outputs": [],
   "source": []
  }
 ],
 "metadata": {
  "kernelspec": {
   "display_name": "Python 3 (ipykernel)",
   "language": "python",
   "name": "python3"
  },
  "language_info": {
   "codemirror_mode": {
    "name": "ipython",
    "version": 3
   },
   "file_extension": ".py",
   "mimetype": "text/x-python",
   "name": "python",
   "nbconvert_exporter": "python",
   "pygments_lexer": "ipython3",
   "version": "3.8.10"
  }
 },
 "nbformat": 4,
 "nbformat_minor": 5
}
