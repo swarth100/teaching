{
 "cells": [
  {
   "cell_type": "markdown",
   "id": "f15ec315-e145-47fc-8688-43754396bc87",
   "metadata": {},
   "source": [
    "# Lists"
   ]
  },
  {
   "cell_type": "markdown",
   "id": "c0ce3e48-656b-4009-b2a6-7c15c27a802b",
   "metadata": {},
   "source": [
    "**Creating a list**:\n",
    "\n",
    "```python\n",
    "my_list = [2, 6, 9, 12]\n",
    "data = [\"hello\", \"world\", \"!\"]\n",
    "```\n",
    "\n",
    "**Modifying lists**:\n",
    "\n",
    "```python\n",
    "nums = [42, 100]\n",
    "\n",
    "nums.append(8)\n",
    "nums.insert(0, 200)\n",
    "nums.append(51)\n",
    "\n",
    "print(nums)\n",
    "```\n",
    "\n",
    "**Accessing list elements**:\n",
    "\n",
    "```python\n",
    "nums = [4, 78, 3, 9]\n",
    "\n",
    "print(nums[2])\n",
    "print(nums[-1])\n",
    "\n",
    "```\n",
    "\n",
    "**Concatenating Lists**:\n",
    "\n",
    "```python\n",
    "left = [1, 2, 3]\n",
    "right = [4, 5, 6]\n",
    "\n",
    "new = left + right\n",
    "print(new)\n",
    "```\n",
    "\n",
    "**Removing items from Lists**:\n",
    "\n",
    "```python\n",
    "data = [4, 8, 12, 16, 20]\n",
    "\n",
    "num1 = data.pop(2)\n",
    "num2 = data.pop(-2)\n",
    "\n",
    "print(data)\n",
    "\n",
    "```\n"
   ]
  },
  {
   "cell_type": "markdown",
   "id": "f02a7345-79bf-4fcc-9d73-8205b3e341bb",
   "metadata": {},
   "source": [
    "\n",
    "#### Ex 6.0\n",
    "\n",
    "Write a program that follows the following steps, what is the output of this program?\n",
    "\n",
    "1. Create a list `nums` that stores the 2 floats `4.5` and `0.2` (inclusive).\n",
    "1. Prints the length of the list `nums`\n",
    "1. Append 2 addtional floats to `nums`: `1.1` and `20`\n",
    "1. Remove the second element of `nums` and add it as the last element\n",
    "1. Print the updated list `nums`\n",
    "1. Insert the float `3.4` at Index 1 of `nums`\n",
    "1. Print the updated list `nums`"
   ]
  },
  {
   "cell_type": "code",
   "execution_count": null,
   "id": "0a1fbd3c-d9b0-4c61-9c32-d90ca50dfe3d",
   "metadata": {},
   "outputs": [],
   "source": [
    "# 1\n",
    "nums = _________\n",
    "\n",
    "# 2\n",
    "print(_________)\n",
    "\n",
    "# 3\n",
    "nums._________(_________)\n",
    "nums._________(_________)\n",
    "\n",
    "# 4\n",
    "elem = nums._________(_________)\n",
    "nums._________(_________)\n",
    "\n",
    "# 5\n",
    "_________\n",
    "\n",
    "# 6\n",
    "nums._________(_________, _________)\n",
    "\n",
    "# 7\n",
    "_________"
   ]
  },
  {
   "cell_type": "markdown",
   "id": "8bb15378-1416-446b-ad6d-e17871eddd02",
   "metadata": {},
   "source": [
    "#### Ex 6.0.1 (Extension!)\n",
    "\n",
    "8. Print the smallest value in `nums`\n",
    "1. Print the average of `nums`\n",
    "1. Print the three largest values in `nums` (this should be printed as a list of 3 elements)\n",
    "\n",
    "___"
   ]
  },
  {
   "cell_type": "markdown",
   "id": "ac8347f2-1945-4f68-b909-daa0aa528ff6",
   "metadata": {},
   "source": [
    "# Dictionaries"
   ]
  },
  {
   "cell_type": "markdown",
   "id": "601ba8d0-d07a-47c0-a246-e8fc58b4d41e",
   "metadata": {},
   "source": [
    "**Creating a dictionary**:\n",
    "\n",
    "```python\n",
    "nums = {\"num1\": 42, \"num2\": 100, \"num3\": 8}\n",
    "data = {\"foo\": 8.2, 100: \"bar\"}\n",
    "\n",
    "print(nums)\n",
    "print(data)\n",
    "```\n",
    "\n",
    "**Accessing dictionary elements**:\n",
    "\n",
    "```python\n",
    "heights = {\"Charles\": 175, \"Adam\": 160, \"Florence\": 180}\n",
    "\n",
    "print(heights[\"Adam\"])\n",
    "print(heights[\"Florence\"])\n",
    "```\n",
    "\n",
    "**Modifying dictionaries**:\n",
    "\n",
    "```python\n",
    "data = {\"a\": 42, \"b\": 3}\n",
    "\n",
    "\n",
    "# Adding new keys:\n",
    "data[\"c\"] = 800\n",
    "data[\"d\"] = 4.5\n",
    "print(data)\n",
    "\n",
    "# Modifying values of existing keys:\n",
    "data[\"a\"] = 10\n",
    "data[\"b\"] = 3.2\n",
    "print(data)\n",
    "\n",
    "```\n",
    "\n",
    "**Deleting dictionary entries**:\n",
    "\n",
    "```python\n",
    "data = {\"a\": 42, \"b\": 3, \"c\": 100}\n",
    "\n",
    "del data[\"a\"]\n",
    "del data[\"c\"]\n",
    "print(data)\n",
    "```"
   ]
  },
  {
   "cell_type": "markdown",
   "id": "8acfe12f-422a-4eb5-863d-bc0f0bdea418",
   "metadata": {},
   "source": [
    "___\n",
    "\n",
    "#### Ex 6.1\n",
    "\n",
    "Write a program that given a dictionary `bank` does the following:\n",
    "1. Prints the balance for `Rob` (i.e. prints how much money `Rob` has)\n",
    "1. Transfers £50 from `Rob` to `Dan` (i.e removes £50 from `Rob` and adds £50 to `Dan`)\n",
    "1. Prints the updated balance for `Rob` and `Dan`\n",
    "1. Adds a new user `Pat` with a balance of £2\n",
    "1. Removes user `Adam` from the bank (thus removing Adam's balance)\n",
    "1. Print the dictionary `bank` to show the outcome of all operations"
   ]
  },
  {
   "cell_type": "code",
   "execution_count": null,
   "id": "872e5df4-7977-4c42-8b72-c054f7b28bd3",
   "metadata": {},
   "outputs": [],
   "source": [
    "bank = {\"Adam\": 100, \"Rob\": 200, \"Dan\": 60}\n",
    "\n",
    "# 1\n",
    "print(bank[_________])\n",
    "\n",
    "# 2\n",
    "bank[_________] -= _________\n",
    "bank[_________] += _________\n",
    "\n",
    "# 3\n",
    "print(_________)\n",
    "print(_________)\n",
    "\n",
    "# 4\n",
    "bank[_________] = _________\n",
    "\n",
    "# 5\n",
    "_________ bank[_________]\n",
    "\n",
    "# 6 \n",
    "print(_________)"
   ]
  },
  {
   "cell_type": "markdown",
   "id": "e1671558-30da-418e-990a-e4919d627184",
   "metadata": {},
   "source": [
    "#### Ex 6.1.1 (Extension!)\n",
    "\n",
    "7. Create a new list `users` which you need to initialise with the following values: `[\"Amy\", \"Eve\", \"Will\", \"Wes\"]`\n",
    "1. For each user in `users` add them to the `bank` with a balance of £35 (use a for-loop)\n",
    "1. For each user in `users` update their balance adding an extra £50 to their balance. You must use a for-loop and use the `+=` operator.\n",
    "\n",
    "___"
   ]
  },
  {
   "cell_type": "markdown",
   "id": "5cf3c220-5cbe-4cac-b488-d9fb912c9469",
   "metadata": {},
   "source": [
    "**Iterating Lists**:\n",
    "\n",
    "1) Index-iteration\n",
    "\n",
    "```python\n",
    "nums = [10, 20, 30, 40]\n",
    "\n",
    "for i in range(len(nums)):\n",
    "   print(nums[i])\n",
    "```\n",
    "\n",
    "2) For-each loop\n",
    "\n",
    "```python\n",
    "nums = [10, 20, 30, 40]\n",
    "\n",
    "for num in nums:\n",
    "   print(num)\n",
    "```"
   ]
  },
  {
   "cell_type": "markdown",
   "id": "59680474-4d1b-4396-9bfb-95915749fded",
   "metadata": {},
   "source": [
    "___\n",
    "\n",
    "#### Ex 6.2\n",
    "\n",
    "Write a program that given a list of `items` does the following:\n",
    "1. Prints out every item in the list using **index-based** iteration\n",
    "1. Prints out every item in the list using a **for-each** loop"
   ]
  },
  {
   "cell_type": "code",
   "execution_count": null,
   "id": "a384dce2-339a-4b3b-85f9-5e52346d99e2",
   "metadata": {},
   "outputs": [],
   "source": [
    "items = [\"apple\", \"banana\", \"cherry\"]\n",
    "\n",
    "# 1\n",
    "for _________:\n",
    "   print(_________)\n",
    "\n",
    "# 2\n",
    "for _________:\n",
    "   print(_________)"
   ]
  },
  {
   "cell_type": "markdown",
   "id": "32801738-d0b8-4ee2-a7da-c6da50d4d2b3",
   "metadata": {},
   "source": [
    "#### Ex 6.2.1 (Extension!)\n",
    "\n",
    "You are also given a dictionary `costs` with data: `{\"apple\": 2.5, \"banana\": 1.5, \"cherry\": 6}`.\n",
    "\n",
    "Using a for-loop ober the `items` list, you must print out the cost (stored in the `costs` dictionary) associated with each item in `items`.\n",
    "\n",
    "___"
   ]
  },
  {
   "cell_type": "markdown",
   "id": "06ae2c97-968c-4d9a-b7f0-426107e50a4d",
   "metadata": {},
   "source": [
    "**Iterating Dictionaries**:\n",
    "\n",
    "1) Key-iteration\n",
    "\n",
    "```python\n",
    "data = {\"a\": 4, \"f\": 1, \"z\": 8}\n",
    "\n",
    "for key in data:\n",
    "   value = data[key]\n",
    "   print(key, value)\n",
    "```\n",
    "\n",
    "2) For-each loop\n",
    "\n",
    "```python\n",
    "data = {\"a\": 4, \"f\": 1, \"z\": 8}\n",
    "\n",
    "for key, value in data.items():\n",
    "  print(key, value)\n",
    "```"
   ]
  },
  {
   "cell_type": "markdown",
   "id": "669bd64e-985b-44b7-b59f-0e9d884c5850",
   "metadata": {},
   "source": [
    "___\n",
    "\n",
    "#### Ex 6.3\n",
    "\n",
    "Given the dictionary `inventory`, iterate over the dictionary and print each fruit and its quantity in the format:\n",
    "```\n",
    "\t\t\t\t\"There are [quantity] [fruit]\"\n",
    "```"
   ]
  },
  {
   "cell_type": "code",
   "execution_count": null,
   "id": "cd2daef4-1860-4c8c-bbee-0a910cef9c11",
   "metadata": {},
   "outputs": [],
   "source": [
    "inventory = {\"apples\": 30, \"bananas\": 45, \"cherries\": 25}\n",
    "\n",
    "for _________, _________ in inventory._________():\n",
    "   print(\"There are \" + str(_________) + \" \" + _________)\n"
   ]
  },
  {
   "cell_type": "markdown",
   "id": "7f0735a2-223d-4f36-aa9d-f25fb53a1cbb",
   "metadata": {},
   "source": [
    "___\n",
    "\n",
    "#### Ex 6.4\n",
    "\n",
    "Given the dictionary `inventory`, iterate over the dictionary and calculate the total quantity of fruits. Print the total.\n"
   ]
  },
  {
   "cell_type": "code",
   "execution_count": null,
   "id": "a2609028-f440-487f-9d9c-778199f6bc47",
   "metadata": {},
   "outputs": [],
   "source": [
    "inventory = {\"apples\": 30, \"bananas\": 45, \"cherries\": 25}\n",
    "\n",
    "total = 0\n",
    "\n",
    "for _________, _________ in inventory._________():\n",
    "   total += _________\n",
    "  \n",
    "print(_________)\n"
   ]
  },
  {
   "cell_type": "markdown",
   "id": "58af2201-e1d7-4984-8dde-041f1850a91d",
   "metadata": {},
   "source": [
    "#### Ex 6.4.1 (Extension!)\n",
    "\n",
    "Also using a for-loop find out the name of the fruit with the highest quantity in the `inventory`.\n",
    "\n",
    "**TIP**: You should use two new variables `highest_fruit_name` and `highest_fruit_quantity`, every loop you can then check if the quantity of the current fruit you are looking at is greater than `highest_fruit_quantity`.\n",
    "\n",
    "___"
   ]
  },
  {
   "cell_type": "markdown",
   "id": "89327c1a-961d-412c-b23f-ce690de12fed",
   "metadata": {},
   "source": [
    "# Sets"
   ]
  },
  {
   "cell_type": "markdown",
   "id": "f64c6be3-9cd5-49d7-9269-69236c70b912",
   "metadata": {},
   "source": [
    "\n",
    "**Creating a set**:\n",
    "\n",
    "```python\n",
    "nums = {42, 100, 42}\n",
    "data = {\"A\", \"C\", \"D\"}\n",
    "\n",
    "print(nums)\n",
    "print(data)\n",
    "```\n",
    "\n",
    "**Add elements to a set**:\n",
    "\n",
    "```python\n",
    "nums = {42, 100}\n",
    "\n",
    "nums.add(8)\n",
    "```\n",
    "\n",
    "**Remove elements from a set**:\n",
    "\n",
    "```python\n",
    "nums = {42, 100}\n",
    "\n",
    "nums.remove(100)\n",
    "```\n"
   ]
  },
  {
   "cell_type": "markdown",
   "id": "cacaf57f-1c86-42b8-a147-a1f5e23059dc",
   "metadata": {},
   "source": [
    "___\n",
    "\n",
    "#### Ex 6.5\n",
    "\n",
    "Write a program that:\n",
    "\n",
    "1. Create a set `numbers` with integers 1, 2, and 3.\n",
    "2. Add the number 4 to the set.\n",
    "3. Remove the number 2 from the set.\n",
    "4. Prints the final set `numbers` after all changes"
   ]
  },
  {
   "cell_type": "code",
   "execution_count": null,
   "id": "70665313-259e-408a-99b0-3dd82d2418a4",
   "metadata": {},
   "outputs": [],
   "source": [
    "# 1\n",
    "numbers = _________\n",
    "\n",
    "# 2\n",
    "numbers._________(_________)\n",
    "\n",
    "# 3\n",
    "numbers._________(_________)\n",
    "\n",
    "# 4\n",
    "print(_________)"
   ]
  },
  {
   "cell_type": "markdown",
   "id": "8dbdbc46-9775-4d3a-97fb-cb5369ba99c5",
   "metadata": {},
   "source": [
    "___\n",
    "\n",
    "#### Ex 6.6\n",
    "\n",
    "Write a program that given a set `data` uses a for-loop to add every element of a list `nums` to `data`"
   ]
  },
  {
   "cell_type": "code",
   "execution_count": null,
   "id": "fa916ab5-0e05-4326-9d79-199d83a2ea1f",
   "metadata": {},
   "outputs": [],
   "source": [
    "data = {4, 8, 2}\n",
    "\n",
    "nums = [5, 6, 7, 9]\n",
    "\n",
    "for _________:\n",
    "    data._________(_________)\n",
    "\n",
    "print(data)"
   ]
  },
  {
   "cell_type": "markdown",
   "id": "a0c4ab4c-ac94-4dbd-b7b7-ee3b13fc1c59",
   "metadata": {},
   "source": [
    "___\n",
    "\n",
    "**Set Theory**:\n",
    "\n",
    "```python\n",
    "set1 = {\"A\", \"B\", \"C\"}\n",
    "set2 = {\"B\", \"C\", \"D\"}\n",
    "\n",
    "# Union:\n",
    "print(set1 | set2)\n",
    "\n",
    "# Intersection\n",
    "print(set1 & set2)\n",
    "\n",
    "# Difference\n",
    "print(set1 - set2)\n",
    "```"
   ]
  },
  {
   "cell_type": "markdown",
   "id": "9b561262-a46a-4cf0-9489-4dc55942dcbe",
   "metadata": {},
   "source": [
    "___\n",
    "\n",
    "#### Ex 6.7\n",
    "\n",
    "Given three schools: `ist`, `ism` and `isb`, write a program that:\n",
    "1. Finds students who are in both `ist` and `ism`.\n",
    "2. Finds students who are in `ism` but not in `isb`.\n",
    "3. Finds students who are in any one of the three schools (union).\n",
    "4. Finds students who are in all three schools."
   ]
  },
  {
   "cell_type": "code",
   "execution_count": null,
   "id": "d679b443-49fa-40eb-adce-80ce1be61b4c",
   "metadata": {},
   "outputs": [],
   "source": [
    "ist_students = {\"Alice\", \"Bob\", \"Charlie\"}\n",
    "ism_students = {\"Bob\", \"Daisy\", \"Charlie\"}\n",
    "isb_students = {\"Charlie\", \"Fiona\", \"Ethan\"}\n",
    "\n",
    "# 1\n",
    "both_ist_ism = _________\n",
    "print(both_ist_ism)\n",
    "\n",
    "# 2\n",
    "ism_not_isb = _________\n",
    "print(ism_not_isb)\n",
    "\n",
    "# 3\n",
    "any_school = _________\n",
    "print(any_school) \n",
    "\n",
    "# 4\n",
    "all_schools = _________\n",
    "print(all_schools)  "
   ]
  },
  {
   "cell_type": "code",
   "execution_count": null,
   "id": "d184a51f-dce1-4b86-b393-4b475bb49505",
   "metadata": {},
   "outputs": [],
   "source": []
  }
 ],
 "metadata": {
  "kernelspec": {
   "display_name": "Python 3 (ipykernel)",
   "language": "python",
   "name": "python3"
  },
  "language_info": {
   "codemirror_mode": {
    "name": "ipython",
    "version": 3
   },
   "file_extension": ".py",
   "mimetype": "text/x-python",
   "name": "python",
   "nbconvert_exporter": "python",
   "pygments_lexer": "ipython3",
   "version": "3.8.10"
  }
 },
 "nbformat": 4,
 "nbformat_minor": 5
}
