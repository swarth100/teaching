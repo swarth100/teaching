{
 "cells": [
  {
   "cell_type": "markdown",
   "id": "58a1c952-5d6d-4ee1-b634-466ec3f89d58",
   "metadata": {},
   "source": [
    "#### Ex 10.0"
   ]
  },
  {
   "cell_type": "code",
   "execution_count": null,
   "id": "c44585f5-d21f-4dad-8e66-a5e017f5cb75",
   "metadata": {},
   "outputs": [],
   "source": [
    "import pandas as pd"
   ]
  },
  {
   "cell_type": "markdown",
   "id": "44b741f3-a574-4bdc-93e8-a6b125487c1f",
   "metadata": {},
   "source": [
    "#### Ex 10.1"
   ]
  },
  {
   "cell_type": "code",
   "execution_count": null,
   "id": "54462a39-ab37-4706-8a12-349d20289d68",
   "metadata": {},
   "outputs": [],
   "source": [
    "df = pd.read_csv(\"titanic_dataset.csv\")\n",
    "df"
   ]
  },
  {
   "cell_type": "markdown",
   "id": "214e7a35-3bd7-49b7-bd28-8c71cfedc375",
   "metadata": {},
   "source": [
    "#### Ex 10.2"
   ]
  },
  {
   "cell_type": "code",
   "execution_count": null,
   "id": "2b0624af-eb14-445e-820b-90b364b7db1c",
   "metadata": {},
   "outputs": [],
   "source": []
  },
  {
   "cell_type": "markdown",
   "id": "d450886e-91bc-4658-88e9-05300e62c5b4",
   "metadata": {},
   "source": [
    "#### Ex 10.3"
   ]
  },
  {
   "cell_type": "code",
   "execution_count": null,
   "id": "71c17e8d-00ba-4d7d-9509-bf22ab7d383c",
   "metadata": {},
   "outputs": [],
   "source": []
  },
  {
   "cell_type": "markdown",
   "id": "6d511296-f17e-46df-9082-e6f49cec3a42",
   "metadata": {},
   "source": [
    "#### Ex 10.4\n",
    "\n",
    "Use `loc` to select the row at index 3"
   ]
  },
  {
   "cell_type": "code",
   "execution_count": null,
   "id": "eb01e914-f13f-4a42-bcb7-1b510271a207",
   "metadata": {},
   "outputs": [],
   "source": []
  },
  {
   "cell_type": "markdown",
   "id": "ddc33a8f-8e41-40e1-8018-f70510353bd3",
   "metadata": {},
   "source": [
    "#### Ex 10.5\n",
    "\n",
    "Use `loc` to select the rows between index 2 and index 6 (inclusive)"
   ]
  },
  {
   "cell_type": "code",
   "execution_count": null,
   "id": "ad2c51ac-460f-4172-98ff-614ce3f99f70",
   "metadata": {},
   "outputs": [],
   "source": []
  },
  {
   "cell_type": "markdown",
   "id": "98580ace-aea2-489b-bf2c-1c9243512be6",
   "metadata": {},
   "source": [
    "#### Ex 10.6\n",
    "\n",
    "Use `loc` to select the first 5 rows of the dataframe `df`"
   ]
  },
  {
   "cell_type": "code",
   "execution_count": null,
   "id": "6e7f7111-d798-4708-a49f-e012737310f5",
   "metadata": {},
   "outputs": [],
   "source": []
  },
  {
   "cell_type": "markdown",
   "id": "0283366a-d9fa-4440-bc61-187660628035",
   "metadata": {},
   "source": [
    "#### Ex 10.6.1 (Extension!)\n",
    "\n",
    "Use `loc` to select rows where the index is a multiple of 4.\n",
    "\n",
    "**NOTE**: You can pass down a list to `df.loc` such as `df.loc[[0, 2, 4, 10]]`\n"
   ]
  },
  {
   "cell_type": "code",
   "execution_count": null,
   "id": "1fe27d84-e96d-4b41-abe3-bc44eb6ab91f",
   "metadata": {},
   "outputs": [],
   "source": []
  },
  {
   "cell_type": "markdown",
   "id": "3704dd26-d53f-4b8f-9a55-7f7b1eb17049",
   "metadata": {},
   "source": [
    "___\n",
    "\n",
    "#### Ex 10.7\n",
    "\n",
    "Use `loc` to select the first 10 rows of df **and** only include the `'Name'` column in your selection."
   ]
  },
  {
   "cell_type": "markdown",
   "id": "77f9045b-25fb-4e32-b1bd-5b60fbf9f300",
   "metadata": {},
   "source": []
  },
  {
   "cell_type": "markdown",
   "id": "3daa9078-2005-4e2e-8616-2ee418a33d0c",
   "metadata": {},
   "source": [
    "#### Ex 10.8\n",
    "\n",
    "Use `loc` to select all rows **after** index 400 of `df` **and** only include the `'Name'` and `'Age'` columns in your selection."
   ]
  },
  {
   "cell_type": "code",
   "execution_count": null,
   "id": "7c4596be-1eb7-4560-8e98-a85c0451f5b7",
   "metadata": {},
   "outputs": [],
   "source": []
  },
  {
   "cell_type": "markdown",
   "id": "1d08ebc0-07b0-42c8-b191-3d1270e3c6f5",
   "metadata": {},
   "source": [
    "#### Ex 10.9\n",
    "\n",
    "Use `loc` to select all rows of `df` **and** only include the `'Age'`, `'Fare'` and `'Pclass'` columns in your selection."
   ]
  },
  {
   "cell_type": "code",
   "execution_count": null,
   "id": "81850108-9cb4-4357-88aa-c418fa793699",
   "metadata": {},
   "outputs": [],
   "source": []
  },
  {
   "cell_type": "markdown",
   "id": "44ab9fbe-29c2-4a8f-9435-acaf6cdbd3ce",
   "metadata": {},
   "source": [
    "#### Ex 10.9.1 (Extension!)\n",
    "\n",
    "Use `loc` to select all rows where the last digit of the index is `5` (i.e. `5`, `15`, `25`, etc) and include columns `'Pclass'`, `'Name'`, and `'Embarked'`. \n"
   ]
  },
  {
   "cell_type": "code",
   "execution_count": null,
   "id": "28efcacf-d83c-4cfe-9784-63277a61ec21",
   "metadata": {},
   "outputs": [],
   "source": []
  },
  {
   "cell_type": "markdown",
   "id": "29c37d72-34cf-4bc2-9397-673f5130eb3a",
   "metadata": {},
   "source": [
    "___\n",
    "\n",
    "#### Ex 10.10\n",
    "\n",
    "Using boolean indexing, select passengers are older than 30"
   ]
  },
  {
   "cell_type": "code",
   "execution_count": null,
   "id": "4c919990-a17b-4b56-81d8-c4f091f2ea65",
   "metadata": {},
   "outputs": [],
   "source": []
  },
  {
   "cell_type": "markdown",
   "id": "db89e6eb-dc8f-4abe-872e-9262b1567e13",
   "metadata": {},
   "source": [
    "#### Ex 10.11\n",
    "\n",
    "Using boolean indexing, select all passengers who are in first class (`Pclass` is equal to `1`)"
   ]
  },
  {
   "cell_type": "code",
   "execution_count": null,
   "id": "af3d4a70-67f3-4d6b-81f0-502b91326213",
   "metadata": {},
   "outputs": [],
   "source": []
  },
  {
   "cell_type": "markdown",
   "id": "e663cb08-6c4d-4473-b4a1-fc684992ea79",
   "metadata": {},
   "source": [
    "#### Ex 10.12\n",
    "\n",
    "Using boolean indexing, select all passengers who are in `Cabin` `\"G6\"`.\n",
    "\n",
    "Why do you think there are multiple people from different households?"
   ]
  },
  {
   "cell_type": "code",
   "execution_count": null,
   "id": "65922731-36de-4aed-8530-f1efe1eb9bdb",
   "metadata": {},
   "outputs": [],
   "source": []
  },
  {
   "cell_type": "markdown",
   "id": "19ecc533-8ed6-4537-aa22-32d60bd0b2da",
   "metadata": {},
   "source": [
    "#### Ex 10.13\n",
    "\n",
    "Using boolean indexing, select passengers who paid a fare lower than `$100`"
   ]
  },
  {
   "cell_type": "code",
   "execution_count": null,
   "id": "d698b322-a88a-4b35-86d6-db7637827412",
   "metadata": {},
   "outputs": [],
   "source": []
  },
  {
   "cell_type": "markdown",
   "id": "177a91e1-2613-45a7-b4b2-d33d6ce9105b",
   "metadata": {},
   "source": [
    "#### Ex 10.14\n",
    "\n",
    "Using boolean indexing, select passengers who survived the Titanic disaster (`Survived` is 1)"
   ]
  },
  {
   "cell_type": "code",
   "execution_count": null,
   "id": "abdaa4cd-b29f-4d52-b17c-66ce96327e0e",
   "metadata": {},
   "outputs": [],
   "source": []
  },
  {
   "cell_type": "markdown",
   "id": "d006cf74-72bf-4185-99ea-8adf0c2c2152",
   "metadata": {},
   "source": [
    "#### Ex 10.14.1 (Extension!)\n",
    "\n",
    "Find passengers who paid a fare greater than the average.\n",
    "\n",
    "You may find the average fare by using `df[\"Fare\"].mean()`"
   ]
  },
  {
   "cell_type": "code",
   "execution_count": null,
   "id": "137f37a4-497d-417a-b9c9-0bb0bfe5b97d",
   "metadata": {},
   "outputs": [],
   "source": []
  },
  {
   "cell_type": "markdown",
   "id": "59252968-f0dd-49f2-b205-f7e201b81f5a",
   "metadata": {},
   "source": [
    "#### Ex 10.14.2 (Extension!)\n",
    "\n",
    "Find the cabin which was shares by most people.\n",
    "\n",
    "You can get the list of all cabins by using:\n",
    "```\n",
    "cabins = list(df[\"Cabin\"].unique())\n",
    "```\n",
    "\n",
    "**NOTE**: I would recommend using a for-loop"
   ]
  },
  {
   "cell_type": "code",
   "execution_count": null,
   "id": "0d1fa403-7272-4d1c-a843-660fab3dd604",
   "metadata": {},
   "outputs": [],
   "source": []
  },
  {
   "cell_type": "markdown",
   "id": "9312ff7a-9776-46ba-ba01-da46857918f2",
   "metadata": {},
   "source": [
    "___\n",
    "\n",
    "#### Ex 10.15\n",
    "\n",
    "Rewrite the following boolean indexing selection using the shorthand:\n",
    "\n",
    "```\n",
    "df[df.loc[:, \"Age\"] > 30]\n",
    "\n",
    "```"
   ]
  },
  {
   "cell_type": "code",
   "execution_count": null,
   "id": "4a1f10b9-c38c-4b93-b2eb-fec3c2a9e2d1",
   "metadata": {},
   "outputs": [],
   "source": []
  },
  {
   "cell_type": "markdown",
   "id": "e9c199b6-cf94-4b21-8b31-508e93353056",
   "metadata": {},
   "source": [
    "#### Ex 10.16\n",
    "\n",
    "Using boolean indexing chaining select all the first-class passengers that were under 18 years of age"
   ]
  },
  {
   "cell_type": "code",
   "execution_count": null,
   "id": "222193aa-24ed-4402-9158-3459af68ed88",
   "metadata": {},
   "outputs": [],
   "source": []
  },
  {
   "cell_type": "markdown",
   "id": "4246702e-ea3f-4689-aa23-d1758737bdbb",
   "metadata": {},
   "source": [
    "#### Ex 10.17\n",
    "\n",
    "Using boolean indexing chaining select all the passengers that were either under `18` or over `60` years of age."
   ]
  },
  {
   "cell_type": "code",
   "execution_count": null,
   "id": "88fb33fc-9af0-40c5-aa62-cc251e458e40",
   "metadata": {},
   "outputs": [],
   "source": []
  },
  {
   "cell_type": "markdown",
   "id": "fab0f92e-db85-4372-948a-551b39c93c3a",
   "metadata": {},
   "source": [
    "#### Ex 10.18\n",
    "\n",
    "Using boolean indexing chaining find all passengers who embarked from Southampton (`'S'`) and paid a fare less than `$50`."
   ]
  },
  {
   "cell_type": "code",
   "execution_count": null,
   "id": "0b66a7f5-5a3c-4ad4-9bdd-7793ac32eb9c",
   "metadata": {},
   "outputs": [],
   "source": []
  },
  {
   "cell_type": "markdown",
   "id": "72e38ca9-a0c7-458a-925b-0a99651e3c94",
   "metadata": {},
   "source": [
    "#### Ex 10.19\n",
    "\n",
    "Select passengers who are between `20` and `30` years old and paid a fare greater than `$100`."
   ]
  },
  {
   "cell_type": "code",
   "execution_count": null,
   "id": "9cf73759-18a0-4ccd-8bbf-38cc6b8ac02a",
   "metadata": {},
   "outputs": [],
   "source": []
  },
  {
   "cell_type": "markdown",
   "id": "ace62baa-b4d9-4f55-8338-6c69279aa916",
   "metadata": {},
   "source": [
    "#### Ex 10.19.1 (Extension!)\n",
    "\n",
    "Find all passengers who were either in the `1st` or `2nd` class and aged between `30` and `40`, or in the `3rd` class and aged between `18` and `25`, and who did **not** survive."
   ]
  },
  {
   "cell_type": "code",
   "execution_count": null,
   "id": "55eece65-bbcf-4f03-82f2-997cc349ca0d",
   "metadata": {},
   "outputs": [],
   "source": []
  },
  {
   "cell_type": "markdown",
   "id": "2e6092ff-c3b0-44c7-848e-0bbf6366028b",
   "metadata": {},
   "source": [
    "#### Ex 10.19.2 (Extension!)\n",
    "Select passengers who embarked from 'S' or 'C', paid a farelower than the average fare and are not in first class.\n",
    "\n",
    "You may find the average fare by using `df[\"Fare\"].mean()`"
   ]
  },
  {
   "cell_type": "code",
   "execution_count": null,
   "id": "ca94c4f8-a802-44cd-8658-60a5470abd5c",
   "metadata": {},
   "outputs": [],
   "source": []
  }
 ],
 "metadata": {
  "kernelspec": {
   "display_name": "Python 3 (ipykernel)",
   "language": "python",
   "name": "python3"
  },
  "language_info": {
   "codemirror_mode": {
    "name": "ipython",
    "version": 3
   },
   "file_extension": ".py",
   "mimetype": "text/x-python",
   "name": "python",
   "nbconvert_exporter": "python",
   "pygments_lexer": "ipython3",
   "version": "3.8.10"
  }
 },
 "nbformat": 4,
 "nbformat_minor": 5
}
