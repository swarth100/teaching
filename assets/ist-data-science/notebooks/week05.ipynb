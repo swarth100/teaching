{
 "cells": [
  {
   "cell_type": "markdown",
   "id": "f15ec315-e145-47fc-8688-43754396bc87",
   "metadata": {},
   "source": [
    "# Lists"
   ]
  },
  {
   "cell_type": "markdown",
   "id": "c0ce3e48-656b-4009-b2a6-7c15c27a802b",
   "metadata": {},
   "source": [
    "**Creating a list**:\n",
    "\n",
    "```python\n",
    "my_list = [2, 6, 9, 12]\n",
    "data = [\"hello\", \"world\", \"!\"]\n",
    "```\n",
    "\n",
    "**Modifying lists**:\n",
    "\n",
    "```python\n",
    "nums = [42, 100]\n",
    "\n",
    "nums.append(8)\n",
    "nums.insert(0, 200)\n",
    "nums.append(51)\n",
    "\n",
    "print(nums)\n",
    "```\n",
    "\n",
    "**Accessing list elements**:\n",
    "\n",
    "```python\n",
    "nums = [4, 78, 3, 9]\n",
    "\n",
    "print(nums[2])\n",
    "print(nums[-1])\n",
    "\n",
    "```\n",
    "\n",
    "**Concatenating Lists**:\n",
    "\n",
    "```python\n",
    "left = [1, 2, 3]\n",
    "right = [4, 5, 6]\n",
    "\n",
    "new = left + right\n",
    "print(new)\n",
    "```\n",
    "\n",
    "**Removing items from Lists**:\n",
    "\n",
    "```python\n",
    "data = [4, 8, 12, 16, 20]\n",
    "\n",
    "num1 = data.pop(2)\n",
    "num2 = data.pop(-2)\n",
    "\n",
    "print(data)\n",
    "\n",
    "```\n"
   ]
  },
  {
   "cell_type": "markdown",
   "id": "f02a7345-79bf-4fcc-9d73-8205b3e341bb",
   "metadata": {},
   "source": [
    "\n",
    "#### Ex 5.0\n",
    "\n",
    "Write a program that follows the following steps, what is the output of this program?\n",
    "\n",
    "1. Create a list `nums` that stores the 3 integers between `22` and `24` (inclusive).\n",
    "1. Create a list `data` that stores the 2 integers `17` and `55`.\n",
    "1. Using the `data` list, append 2 addtional integers: `20` and `65`\n",
    "1. Remove the second element of `nums`\n",
    "1. Insert the integer `34` at Index 1 of `nums`\n",
    "1. Remove the last element of `data` and insert it at the beginning of `nums`\n",
    "1. Print `nums` and `data` concatenated in this order (all the values of `nums` first, then all the values of `data`"
   ]
  },
  {
   "cell_type": "code",
   "execution_count": null,
   "id": "b25a1c90-9fec-491b-b85f-d09b12f24020",
   "metadata": {},
   "outputs": [],
   "source": [
    "# 1\n",
    "nums = _________\n",
    "\n",
    "# 2\n",
    "data = _________\n",
    "\n",
    "# 3\n",
    "data._________(_________)\n",
    "data._________(_________)\n",
    "\n",
    "# 4\n",
    "nums._________(_________)\n",
    "\n",
    "# 5\n",
    "nums._________(_________, _________)\n",
    "\n",
    "# 6\n",
    "last_elem = data._________()\n",
    "nums._________(_________, _________)\n",
    "\n",
    "# 7\n",
    "print(_________)"
   ]
  },
  {
   "cell_type": "markdown",
   "id": "965a11cc-ea7c-49fe-a48c-6fcc3f8dfdba",
   "metadata": {},
   "source": [
    "___\n",
    "\n",
    "#### Ex 5.1\n",
    "\n",
    "For the following list `nums` calculate the:\n",
    "* max value\n",
    "* min value\n",
    "* mean value (i.e. the average)\n",
    "\n",
    "**HINT**: For the average use a combination of `sum` and `len`"
   ]
  },
  {
   "cell_type": "code",
   "execution_count": null,
   "id": "a2d660e7-6e23-41ea-a0ee-34b99b1ef098",
   "metadata": {},
   "outputs": [],
   "source": [
    "nums = [4, 8, -17, 23, 55]\n",
    "\n",
    "max_value = _________\n",
    "min_value = _________\n",
    "avg_value = _________\n",
    "\n",
    "print(max_value)\n",
    "print(min_value)\n",
    "print(avg_value)"
   ]
  },
  {
   "cell_type": "markdown",
   "id": "49c76d2f-aafd-49ce-92ce-a7f410ae1d44",
   "metadata": {},
   "source": [
    "#### Ex 5.1.0 (Extension!)\n",
    "\n",
    "Write a `for` loop that doubles all the elements of nums (i.e. after the for-loop every elemen in `nums` should have been multiplied by 2).\n",
    "\n",
    "Calculate the new `max_value`, `min_value` and `avg_value`"
   ]
  },
  {
   "cell_type": "markdown",
   "id": "ac8347f2-1945-4f68-b909-daa0aa528ff6",
   "metadata": {},
   "source": [
    "___\n",
    "\n",
    "# Dictionaries"
   ]
  },
  {
   "cell_type": "markdown",
   "id": "601ba8d0-d07a-47c0-a246-e8fc58b4d41e",
   "metadata": {},
   "source": [
    "**Creating a dictionary**:\n",
    "\n",
    "```python\n",
    "nums = {\"num1\": 42, \"num2\": 100, \"num3\": 8}\n",
    "data = {\"foo\": 8.2, 100: \"bar\"}\n",
    "\n",
    "print(nums)\n",
    "print(data)\n",
    "```"
   ]
  },
  {
   "cell_type": "markdown",
   "id": "8acfe12f-422a-4eb5-863d-bc0f0bdea418",
   "metadata": {},
   "source": [
    "___\n",
    "\n",
    "#### Ex 5.2\n",
    "\n",
    "Write a program that creates a new dictionary `letters` containing the three letters `a`, `b`, `c` as keys and assigning them the integer values `1`, `2` and `3`"
   ]
  },
  {
   "cell_type": "code",
   "execution_count": null,
   "id": "872e5df4-7977-4c42-8b72-c054f7b28bd3",
   "metadata": {},
   "outputs": [],
   "source": [
    "letters = _________\n",
    "\n",
    "print(letters)"
   ]
  },
  {
   "cell_type": "markdown",
   "id": "59680474-4d1b-4396-9bfb-95915749fded",
   "metadata": {},
   "source": [
    "___\n",
    "\n",
    "#### Ex 5.3\n",
    "\n",
    "Write a program that creates a new dictionary called `pets` which stores the names of my three pets together with their age (as an integer):\n",
    "* `Snowball` is 3 years old\n",
    "* `Flopsie` is 5 years old\n",
    "* `Schnitzel` is 1 year old"
   ]
  },
  {
   "cell_type": "code",
   "execution_count": null,
   "id": "a99f6e33-33c1-4646-bf40-dfb108374cfe",
   "metadata": {},
   "outputs": [],
   "source": [
    "pets = _________\n",
    "\n",
    "print(pets)"
   ]
  },
  {
   "cell_type": "markdown",
   "id": "3006b8bf-3dbb-4660-a020-68a0552766ea",
   "metadata": {},
   "source": [
    "___\n",
    "\n",
    "**Accessing dictionary elements**:\n",
    "\n",
    "```python\n",
    "heights = {\"Charles\": 175, \"Adam\": 160, \"Florence\": 180}\n",
    "\n",
    "print(heights[\"Adam\"])\n",
    "print(heights[\"Florence\"])\n",
    "```"
   ]
  },
  {
   "cell_type": "markdown",
   "id": "769b287d-fbab-4bda-9603-fcaf9bc67d3f",
   "metadata": {},
   "source": [
    "___\n",
    "\n",
    "#### Ex 5.4\n",
    "\n",
    "Write a program that given a dictionary `grades` prints out:\n",
    "1. The grade of student `Bob`\n",
    "2. The grade of student `Zethus`\n",
    "3. The sum of the grades of `Bob` and `Alice`\n",
    "4. The average of the grades of `Alice`, `Bob` and `Charlie`"
   ]
  },
  {
   "cell_type": "code",
   "execution_count": null,
   "id": "dd18c1de-b1f8-46f1-8532-03eea472e2c1",
   "metadata": {},
   "outputs": [],
   "source": [
    "grades = {\"Alice\": 9.0, \"Bob\": 7.5, \"Charlie\": 8.3, \"Zethus\": 6.0}\n",
    "\n",
    "# 1\n",
    "print(grades[_________])\n",
    "\n",
    "# 2\n",
    "print(grades[_________])\n",
    "\n",
    "# 3\n",
    "print(grades[_________] + print(grades[_________]))\n",
    "\n",
    "# 4\n",
    "print(_________)"
   ]
  },
  {
   "cell_type": "markdown",
   "id": "acab4d20-6fa4-4981-aa0c-34a9bf60aa41",
   "metadata": {},
   "source": [
    "___\n",
    "\n",
    "**Modifying dictionaries**:\n",
    "\n",
    "```python\n",
    "data = {\"a\": 42, \"b\": 3}\n",
    "\n",
    "\n",
    "# Adding new keys:\n",
    "data[\"c\"] = 800\n",
    "data[\"d\"] = 4.5\n",
    "print(data)\n",
    "\n",
    "# Modifying values of existing keys:\n",
    "data[\"a\"] = 10\n",
    "data[\"b\"] = 3.2\n",
    "print(data)\n",
    "\n",
    "```"
   ]
  },
  {
   "cell_type": "markdown",
   "id": "669bd64e-985b-44b7-b59f-0e9d884c5850",
   "metadata": {},
   "source": [
    "___\n",
    "\n",
    "#### Ex 5.5\n",
    "\n",
    "Write a program that given a dictionary `scores` does the following:\n",
    "1. Prints out the score of `Rob`\n",
    "2. Adds a score of 4 for new user `Dan`\n",
    "3. Prints the score of `Dan`\n",
    "4. Replaces the score of `Rob` with the number 6\n",
    "5. Prints the updated score of `Rob`\n",
    "6. Prints the final `scores` dictionary"
   ]
  },
  {
   "cell_type": "code",
   "execution_count": null,
   "id": "cd2daef4-1860-4c8c-bbee-0a910cef9c11",
   "metadata": {},
   "outputs": [],
   "source": [
    "scores = {\"Rob\": 10, \"Michelle\": 2}\n",
    "\n",
    "# 1\n",
    "print(scores[_________])\n",
    "\n",
    "# 2\n",
    "scores[_________] = _________\n",
    "\n",
    "# 3\n",
    "print(scores[_________])\n",
    "\n",
    "# 4\n",
    "scores[_________] = _________\n",
    "\n",
    "# 5\n",
    "print(scores[_________])\n",
    "\n",
    "# 6\n",
    "print(_________)"
   ]
  },
  {
   "cell_type": "markdown",
   "id": "58af2201-e1d7-4984-8dde-041f1850a91d",
   "metadata": {},
   "source": [
    "#### Ex 5.5.0 (Extension!)\n",
    "\n",
    "Create a list `names` with 5 names of your choosing.\n",
    "\n",
    "Using a `for` loop (you **must** use a loop for this extension), for every element in `names` add it to the `scores` dictionary with a score of `10`.\n",
    "\n",
    "Then print the final dictionary\n",
    "\n",
    "___"
   ]
  },
  {
   "cell_type": "markdown",
   "id": "22a1c726-efcf-4ba0-88a3-59edd3c60e9f",
   "metadata": {},
   "source": [
    "**Deleting dictionary entries**:\n",
    "\n",
    "```python\n",
    "data = {\"a\": 42, \"b\": 3, \"c\": 100}\n",
    "\n",
    "del data[\"a\"]\n",
    "del data[\"c\"]\n",
    "print(data)\n",
    "```"
   ]
  },
  {
   "cell_type": "markdown",
   "id": "3291733f-b5c5-4f4c-86bb-188b40807e1f",
   "metadata": {},
   "source": [
    "___\n",
    "\n",
    "#### Ex 5.6\n",
    "\n",
    "Write a program that given a dictionary `money` does the following:\n",
    "1. Deletes the entry for `Rob`\n",
    "2. Prints the updated `money` dictionary\n",
    "3. Removes `40` euro from `Dan`\n",
    "4. Prints the updated `money` dictionary\n",
    "5. Adds `40` euro to `Adam`\n",
    "6. Prints the updated `money` dictionary"
   ]
  },
  {
   "cell_type": "code",
   "execution_count": null,
   "id": "d85280a7-996e-49eb-9a88-539635686e91",
   "metadata": {},
   "outputs": [],
   "source": [
    "money = {\"Adam\": 100, \"Rob\": 200, \"Dan\": 60}\n",
    "\n",
    "# 1\n",
    "_________ money[_________]\n",
    "\n",
    "# 2\n",
    "print(_________)\n",
    "\n",
    "# 3\n",
    "money[_________] -= _________\n",
    "\n",
    "# 4\n",
    "print(_________)\n",
    "\n",
    "# 5\n",
    "money[_________] += _________\n",
    "\n",
    "# 6 \n",
    "print(_________)"
   ]
  },
  {
   "cell_type": "markdown",
   "id": "47946f54-24dd-4c8c-91fb-075866013d94",
   "metadata": {},
   "source": [
    "___\n",
    "\n",
    "#### Ex 5.7\n",
    "\n",
    "Write a program that given a list of `names`, a matching list of `measurements` and an empty dictionary `heights`:\n",
    "1. Using a `for` loop add each person's name and their corresponding height into `heights`. For example person `Adam` must have a matching height of 175.\n",
    "1. Calculate (and print) the sum of the heights of `Adam`, `Dan` and `Rob`\n",
    "1. Add a new entry in `heights` for `Charlie` who has a height of 190\n",
    "1. Print the length of `heights`. HINT: You can use the `len` function\n",
    "1. Print the name of the tallest person. HINT use `max` and use a `for`-loop!\n",
    "1. Remove the entry in `heights` for `Dan`\n",
    "1. Print out the final dictionary `heights`"
   ]
  },
  {
   "cell_type": "code",
   "execution_count": null,
   "id": "51c2fe2e-ca6c-4763-b64c-d468a87b93ef",
   "metadata": {},
   "outputs": [],
   "source": [
    "names = [\"Dan\", \"Rob\", \"Adam\", \"Matt\"]\n",
    "measurements = [140, 165, 155, 142]\n",
    "heights = {}\n",
    "\n",
    "# 1\n",
    "for i in range(_________):\n",
    "    heights[_________] = measurements[_________]\n",
    "\n",
    "print(heights)\n",
    "\n",
    "# 2\n",
    "print(_________)\n",
    "\n",
    "# 3\n",
    "_________\n",
    "\n",
    "# 4\n",
    "print(_________)\n",
    "\n",
    "# 5\n",
    "max_height = max(_________)\n",
    "for i in range(_________):\n",
    "    name = names[i]\n",
    "    if _________ == _________:\n",
    "        print(name)\n",
    "\n",
    "# 6\n",
    "_________\n",
    "\n",
    "# 7\n",
    "print(_________)\n"
   ]
  },
  {
   "cell_type": "markdown",
   "id": "de44a4da-ff89-4145-87c4-916918181f28",
   "metadata": {},
   "source": [
    "\n",
    "Given a dictionary `colors`,\n",
    "1. Print the length of the dictionary.\n",
    "2. Convert the keys of the dictionary to a list and print it.\n",
    "3. Convert the values of the dictionary to a list and print it.\n",
    "\n",
    "\n",
    "Given a dictionary `inventory`, iterate over the dictionary and print each fruit and its quantity in the format:\n",
    "* `\"There are [quantity] [fruit]\"`\n",
    "\n",
    "Given a dictionary `inventory`, iterate over the dictionary and calculate the total quantity of fruits. Print the total.\n",
    "\n",
    "Write a program that performs the following tasks:\n",
    "1. Create a dictionary `student_marks` with at least five students' names as keys and their marks as values. Marks go from `2` to `10`.\n",
    "1. Print the name of the student with the highest mark (use a loop to determine this).\n",
    "1. Remove the student with the lowest mark from the dictionary.\n",
    "1. Add a new student `\"Emily\"` with a mark of `8.7`.\n",
    "1. Print the updated dictionary.\n",
    "1. Calculate and print the average mark of the class."
   ]
  },
  {
   "cell_type": "code",
   "execution_count": null,
   "id": "a227948f-58cb-4059-8e60-66fd84e9f2fd",
   "metadata": {},
   "outputs": [],
   "source": []
  }
 ],
 "metadata": {
  "kernelspec": {
   "display_name": "Python 3 (ipykernel)",
   "language": "python",
   "name": "python3"
  },
  "language_info": {
   "codemirror_mode": {
    "name": "ipython",
    "version": 3
   },
   "file_extension": ".py",
   "mimetype": "text/x-python",
   "name": "python",
   "nbconvert_exporter": "python",
   "pygments_lexer": "ipython3",
   "version": "3.8.10"
  }
 },
 "nbformat": 4,
 "nbformat_minor": 5
}
