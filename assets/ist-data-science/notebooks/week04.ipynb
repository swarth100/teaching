{
 "cells": [
  {
   "cell_type": "markdown",
   "id": "ed6c5991-7dd0-433f-8b48-f2cc86f2703a",
   "metadata": {},
   "source": [
    "# Loops"
   ]
  },
  {
   "cell_type": "markdown",
   "id": "9447969d-1552-486f-8253-8fc87c820b3a",
   "metadata": {},
   "source": [
    "**REMEMBER**: Anatomy of a while-loop\n",
    "\n",
    "* Uses the `while` keyword\n",
    "* Ends with a colon (`:`)\n",
    "* Uses tabs for spacing from the outside scope\n",
    "\n",
    "**Example**:\n",
    "\n",
    "```python\n",
    "x = 5\n",
    "\n",
    "while x < 10:\n",
    "    print(x)\n",
    "    x += 1\n",
    "```"
   ]
  },
  {
   "cell_type": "markdown",
   "id": "13b9c18b-0b52-4d04-8b07-a09d82df7537",
   "metadata": {},
   "source": [
    "**REMEMBER**: Anatomy of a for-loop\n",
    "\n",
    "* Uses the `for` keyword\n",
    "* Ends with a colon (`:`)\n",
    "* Takes up to 3 parameters:\n",
    "    1. Start number (optional, default is 0)\n",
    "    1. End number\n",
    "    1. Step-size (optional, default is 1)\n",
    "\n",
    "**Examples**:\n",
    "\n",
    "```python\n",
    "for x in range(10):\n",
    "   print(x)\n",
    "```\n",
    "\n",
    "```python\n",
    "for x in range(2, 10):\n",
    "   print(x)\n",
    "```\n",
    "\n",
    "```python\n",
    "for x in range(2, 10, 3):\n",
    "   print(x)\n",
    "```\n",
    "\n",
    "___"
   ]
  },
  {
   "cell_type": "markdown",
   "id": "2ad4e11b-ba69-4d6e-bcac-933411696365",
   "metadata": {},
   "source": [
    "#### Ex 4.0\n",
    "\n",
    "Complete the following program.\n",
    "\n",
    "It takes an input `num` from the user.\n",
    "\n",
    "It should print out FULL square pattern of size `num`.\n",
    "\n",
    "Example if `num = 4`:\n",
    "\n",
    "```\n",
    "****\n",
    "****\n",
    "****\n",
    "****\n",
    "```\n",
    "\n",
    "**HINT**: Use loops!"
   ]
  },
  {
   "cell_type": "code",
   "execution_count": null,
   "id": "472bee2a-e06c-4a14-8873-459a21359cb6",
   "metadata": {},
   "outputs": [],
   "source": [
    "num = int(input(\"Insert the size of the square: \"))\n",
    "\n",
    "_________"
   ]
  },
  {
   "cell_type": "markdown",
   "id": "d2f56bf4-02e0-4c52-ae83-57ad78f17590",
   "metadata": {},
   "source": [
    "#### Ex 4.0.1 (Extension!)\n",
    "\n",
    "Extend the above program so that it should print out an EMPTY square pattern of size `num`.\n",
    "\n",
    "Example if `num = 5`:\n",
    "\n",
    "```\n",
    "*****\n",
    "*...*\n",
    "*...*\n",
    "*...*\n",
    "*****\n",
    "```\n",
    "\n",
    "____"
   ]
  },
  {
   "cell_type": "markdown",
   "id": "0fac1848-14c1-4983-87d0-22977e27a786",
   "metadata": {},
   "source": [
    "#### Ex 4.1\n",
    "\n",
    "Complete the following program.\n",
    "\n",
    "It takes an input `num` from the user.\n",
    "\n",
    "It should print out a triangular pattern of size `num`.\n",
    "\n",
    "Example if `num = 5`:\n",
    "\n",
    "```\n",
    "....*\n",
    "...**\n",
    "..***\n",
    ".****\n",
    "*****\n",
    "```\n",
    "\n",
    "**HINT**: Use loops!"
   ]
  },
  {
   "cell_type": "code",
   "execution_count": null,
   "id": "0d108633-0e36-4cae-975a-13f3d3840b11",
   "metadata": {},
   "outputs": [],
   "source": [
    "num = int(input(\"Insert the size of the triangle: \"))\n",
    "\n",
    "_________"
   ]
  },
  {
   "cell_type": "markdown",
   "id": "003e60c5-5312-427d-9e65-87a78acc033e",
   "metadata": {},
   "source": [
    "#### Ex 4.1.1 (Extension!)\n",
    "\n",
    "Extend the above program so that it should print out a full pyramid pattern of height `num`.\n",
    "\n",
    "Example if `num = 4`:\n",
    "\n",
    "```\n",
    "...*...\n",
    "..***..\n",
    ".*****.\n",
    "*******\n",
    "```\n",
    "\n",
    "____"
   ]
  },
  {
   "cell_type": "markdown",
   "id": "f15ec315-e145-47fc-8688-43754396bc87",
   "metadata": {},
   "source": [
    "# Lists"
   ]
  },
  {
   "cell_type": "markdown",
   "id": "c0ce3e48-656b-4009-b2a6-7c15c27a802b",
   "metadata": {},
   "source": [
    "**Creating a list**:\n",
    "\n",
    "```python\n",
    "my_list = [2, 6, 9, 12]\n",
    "data = [\"hello\", \"world\", \"!\"]\n",
    "```\n",
    "\n",
    "**Modifying lists**:\n",
    "\n",
    "```python\n",
    "nums = [42, 100]\n",
    "\n",
    "nums.append(8)\n",
    "nums.insert(0, 200)\n",
    "nums.append(51)\n",
    "\n",
    "print(nums)\n",
    "```"
   ]
  },
  {
   "cell_type": "markdown",
   "id": "2a8b1452-9d38-4b18-9a07-2853bcfed5b2",
   "metadata": {},
   "source": [
    "#### Ex 4.2\n",
    "\n",
    "Complete the following program.\n",
    "\n",
    "Initialise a list called `nums` with three numbers inside: `6`, `90` and `43`\n",
    "\n",
    "**HINT**: Use `append` or `insert`!"
   ]
  },
  {
   "cell_type": "code",
   "execution_count": null,
   "id": "3c8f88e5-ee1e-4dbb-a18c-eb6f95acdc9d",
   "metadata": {},
   "outputs": [],
   "source": [
    "nums = _________\n",
    "\n",
    "print(nums)"
   ]
  },
  {
   "cell_type": "markdown",
   "id": "045f8248-20c1-4540-a7fc-5c0245c131f2",
   "metadata": {},
   "source": [
    "\n",
    "\n",
    "#### Ex 4.3\n",
    "Complete the following program.\n",
    "\n",
    "Add the following numbers to the `nums` list: 3, 21 and 17\n",
    "\n",
    "**HINT**: Use `append` or `insert`!"
   ]
  },
  {
   "cell_type": "code",
   "execution_count": null,
   "id": "273fcba0-707e-4470-8ea1-63cb120b045a",
   "metadata": {},
   "outputs": [],
   "source": [
    "nums._________(_________)\n",
    "nums._________(_________)\n",
    "nums._________(_________)\n",
    "\n",
    "print(nums)"
   ]
  },
  {
   "cell_type": "markdown",
   "id": "7fd7bf2d-48df-4c73-bfc3-88e84437753a",
   "metadata": {},
   "source": [
    "#### Ex 4.3.1 (Extension!)\n",
    "\n",
    "Use a `for`-loop to additionally append ten times the `7` to the list `nums`.\n",
    "\n",
    "___"
   ]
  },
  {
   "cell_type": "markdown",
   "id": "4e53979c-afa5-4724-b395-ca347369f90c",
   "metadata": {},
   "source": [
    "**Accessing list elements**:\n",
    "\n",
    "```python\n",
    "nums = [4, 78, 3, 9]\n",
    "\n",
    "print(nums[2])\n",
    "print(nums[-1])\n",
    "\n",
    "```\n",
    "\n",
    "___\n",
    "\n",
    "#### Ex 4.4\n",
    "Complete the following program.\n",
    "\n",
    "Given the `nums` list defined above print the:\n",
    "* first element\n",
    "* third element\n",
    "* last element (use negative indexing)\n",
    "* second-last element (use negative indexing)"
   ]
  },
  {
   "cell_type": "code",
   "execution_count": null,
   "id": "bb5083c1-d574-4d58-9bfa-dab9b53d304b",
   "metadata": {},
   "outputs": [],
   "source": [
    "print(nums[_________])\n",
    "\n",
    "print(nums[_________])\n",
    "\n",
    "print(nums[_________])\n",
    "\n",
    "print(nums[_________])"
   ]
  },
  {
   "cell_type": "markdown",
   "id": "7e035a65-b280-492c-a43a-d2c87afc5eed",
   "metadata": {},
   "source": [
    "___\n",
    "#### Ex 4.5\n",
    "Write a program that generates a list `data` with all the numbers from 1 to 20. (**HINT**: use a for-loop!)\n",
    "\n",
    "Then print the 5th, 10th, 15th and last element."
   ]
  },
  {
   "cell_type": "code",
   "execution_count": null,
   "id": "59186c02-40e5-4bd2-a9bf-29a66dde58e5",
   "metadata": {},
   "outputs": [],
   "source": [
    "data = []\n",
    "\n",
    "for x in range(_________):\n",
    "    data.append(_________)\n",
    "\n",
    "print(data[_________])\n",
    "print(data[_________])\n",
    "print(data[_________])\n",
    "print(data[_________])"
   ]
  },
  {
   "cell_type": "markdown",
   "id": "ff89d433-02e4-4f6a-b88b-e9e63ef0b5cd",
   "metadata": {},
   "source": [
    "\n",
    "#### Ex 4.5.1 (Extension!)\n",
    "In the exercise above use a for loop to print all the indexes that are multiples of 5.\n",
    "\n",
    "___"
   ]
  },
  {
   "cell_type": "markdown",
   "id": "d38e55dc-63eb-4a61-95c9-d013276fe756",
   "metadata": {},
   "source": [
    "**Concatenating Lists**:\n",
    "\n",
    "```python\n",
    "left = [1, 2, 3]\n",
    "right = [4, 5, 6]\n",
    "\n",
    "new = left + right\n",
    "print(new)\n",
    "```\n",
    "\n",
    "___\n",
    "\n",
    "#### Ex 4.6\n",
    "\n",
    "* Create list `numsL` with all numbers from 0 to 9 (inclusive)\n",
    "* Create list `numsM` with a single number: 10\n",
    "* Create list `numsR` with all numbers from 11 to 19 (inclusive)\n",
    "\n",
    "Concatenate the three lists and print the output list out"
   ]
  },
  {
   "cell_type": "code",
   "execution_count": null,
   "id": "9d5115da-a893-48ba-90b0-d8866c22b2f1",
   "metadata": {},
   "outputs": [],
   "source": [
    "numsL = _________\n",
    "numsM = _________\n",
    "numsR = _________\n",
    "\n",
    "print(_________)"
   ]
  },
  {
   "cell_type": "markdown",
   "id": "f02a7345-79bf-4fcc-9d73-8205b3e341bb",
   "metadata": {},
   "source": [
    "___\n",
    "\n",
    "**Removing items from **:\n",
    "\n",
    "```python\n",
    "left = [1, 2, 3]\n",
    "right = [4, 5, 6]\n",
    "\n",
    "new = left + right\n",
    "print(new)\n",
    "```\n",
    "\n",
    "___\n",
    "#### Ex 4.7\n",
    "\n",
    "Write a program that follows the following steps, what is the output of this program?\n",
    "\n",
    "1. Create a list `data` that stores the 6 integers between 10 and 15 (inclusive).\n",
    "1. Using the `data` that list, appending 2 addtional integers: `20` and `65`\n",
    "1. Then create a blank list `blank`\n",
    "1. Insert the integer `34` at Index 0 of `data`\n",
    "1. Remove the last element of `data` and insert it at the beginning of `blank`\n",
    "1. Print the two lists concatenated"
   ]
  },
  {
   "cell_type": "code",
   "execution_count": null,
   "id": "b25a1c90-9fec-491b-b85f-d09b12f24020",
   "metadata": {},
   "outputs": [],
   "source": [
    "# 1\n",
    "data = _________\n",
    "\n",
    "# 2\n",
    "data._________(_________)\n",
    "data._________(_________)\n",
    "\n",
    "# 3\n",
    "blank = _________\n",
    "\n",
    "# 4\n",
    "data._________(_________)\n",
    "\n",
    "# 5\n",
    "last_element = data._________()\n",
    "blank._________(_________)\n",
    "\n",
    "# 6\n",
    "print(_________)"
   ]
  },
  {
   "cell_type": "markdown",
   "id": "965a11cc-ea7c-49fe-a48c-6fcc3f8dfdba",
   "metadata": {},
   "source": [
    "___\n",
    "\n",
    "#### Ex 4.8\n",
    "\n",
    "For the following list `nums` calculate the:\n",
    "* max value\n",
    "* min value\n",
    "* mean value (i.e. the average)\n",
    "\n",
    "**HINT**: For the average use a combination of `sum` and `len`"
   ]
  },
  {
   "cell_type": "code",
   "execution_count": null,
   "id": "a2d660e7-6e23-41ea-a0ee-34b99b1ef098",
   "metadata": {},
   "outputs": [],
   "source": [
    "nums = [4, 8, -17, 23, 55]\n",
    "\n",
    "max_value = _________\n",
    "min_value = _________\n",
    "avg_value = _________\n",
    "\n",
    "print(max_value)\n",
    "print(min_value)\n",
    "print(avg_value)"
   ]
  },
  {
   "cell_type": "markdown",
   "id": "59680474-4d1b-4396-9bfb-95915749fded",
   "metadata": {},
   "source": [
    "___\n",
    "\n",
    "#### Ex 4.9\n",
    "\n",
    "Write a program that given a list of numbers `nums` it creates a new list, `cumul` with cumulative sums of all elements.\n",
    "\n",
    "i.e. if `nums` is `[2, 3, 8, 10]` then `cumul` will generated to contain values `[2, 5, 13, 23]`"
   ]
  },
  {
   "cell_type": "code",
   "execution_count": null,
   "id": "a99f6e33-33c1-4646-bf40-dfb108374cfe",
   "metadata": {},
   "outputs": [],
   "source": [
    "nums = [2, 3, 8, 10]\n",
    "cumul = []\n",
    "\n",
    "for _________:\n",
    "    _________\n",
    "\n",
    "print(cumul)"
   ]
  }
 ],
 "metadata": {
  "kernelspec": {
   "display_name": "Python 3 (ipykernel)",
   "language": "python",
   "name": "python3"
  },
  "language_info": {
   "codemirror_mode": {
    "name": "ipython",
    "version": 3
   },
   "file_extension": ".py",
   "mimetype": "text/x-python",
   "name": "python",
   "nbconvert_exporter": "python",
   "pygments_lexer": "ipython3",
   "version": "3.8.10"
  }
 },
 "nbformat": 4,
 "nbformat_minor": 5
}
