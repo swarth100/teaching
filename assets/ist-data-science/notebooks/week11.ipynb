{
 "cells": [
  {
   "cell_type": "markdown",
   "id": "58a1c952-5d6d-4ee1-b634-466ec3f89d58",
   "metadata": {},
   "source": [
    "#### Ex 11.0"
   ]
  },
  {
   "cell_type": "code",
   "execution_count": null,
   "id": "c44585f5-d21f-4dad-8e66-a5e017f5cb75",
   "metadata": {},
   "outputs": [],
   "source": [
    "import pandas as pd\n",
    "import numpy as np"
   ]
  },
  {
   "cell_type": "markdown",
   "id": "44b741f3-a574-4bdc-93e8-a6b125487c1f",
   "metadata": {},
   "source": [
    "#### Ex 11.1"
   ]
  },
  {
   "cell_type": "code",
   "execution_count": null,
   "id": "54462a39-ab37-4706-8a12-349d20289d68",
   "metadata": {},
   "outputs": [],
   "source": [
    "df = pd.read_csv(\"titanic_dataset.csv\")\n",
    "df"
   ]
  },
  {
   "cell_type": "markdown",
   "id": "214e7a35-3bd7-49b7-bd28-8c71cfedc375",
   "metadata": {},
   "source": [
    "#### Ex 11.2\n",
    "\n",
    "Select passengers who paid a fare greater than `$500`."
   ]
  },
  {
   "cell_type": "code",
   "execution_count": null,
   "id": "2b0624af-eb14-445e-820b-90b364b7db1c",
   "metadata": {},
   "outputs": [],
   "source": []
  },
  {
   "cell_type": "markdown",
   "id": "d450886e-91bc-4658-88e9-05300e62c5b4",
   "metadata": {},
   "source": [
    "#### Ex 11.3\n",
    "\n",
    "Select all the third-class passengers that were under `6` years of age."
   ]
  },
  {
   "cell_type": "code",
   "execution_count": null,
   "id": "71c17e8d-00ba-4d7d-9509-bf22ab7d383c",
   "metadata": {
    "scrolled": true
   },
   "outputs": [],
   "source": []
  },
  {
   "cell_type": "markdown",
   "id": "6d511296-f17e-46df-9082-e6f49cec3a42",
   "metadata": {},
   "source": [
    "#### Ex 11.4\n",
    "\n",
    "Select passengers who are between `70` and `85` years old and paid a fare greater than `$25`.\n",
    "\n",
    "What passenger class are they all in?"
   ]
  },
  {
   "cell_type": "code",
   "execution_count": null,
   "id": "eb01e914-f13f-4a42-bcb7-1b510271a207",
   "metadata": {},
   "outputs": [],
   "source": []
  },
  {
   "cell_type": "markdown",
   "id": "ddc33a8f-8e41-40e1-8018-f70510353bd3",
   "metadata": {},
   "source": [
    "#### Ex 11.5\n",
    "\n",
    "Select passengers that embarked from `Cherbourg` (`C`) or from `Queenstown` (`Q`).\n",
    "\n",
    "How many rows do you get? What does this tell you of where the majority of passengers embarked from?"
   ]
  },
  {
   "cell_type": "code",
   "execution_count": null,
   "id": "ad2c51ac-460f-4172-98ff-614ce3f99f70",
   "metadata": {},
   "outputs": [],
   "source": []
  },
  {
   "cell_type": "markdown",
   "id": "98580ace-aea2-489b-bf2c-1c9243512be6",
   "metadata": {},
   "source": [
    "#### Ex 11.6\n",
    "\n",
    "Select passengers that either embarked without siblings or spouses (`SibSp` is `0`), or that did embark with one sibling or spouse and are under the age of `18`."
   ]
  },
  {
   "cell_type": "code",
   "execution_count": null,
   "id": "6e7f7111-d798-4708-a49f-e012737310f5",
   "metadata": {},
   "outputs": [],
   "source": []
  },
  {
   "cell_type": "markdown",
   "id": "0283366a-d9fa-4440-bc61-187660628035",
   "metadata": {},
   "source": [
    "#### Ex 11.6.1 (Extension!)\n",
    "\n",
    "Find the name of the wife of `Crosby, Capt. Edward Gifford`\n"
   ]
  },
  {
   "cell_type": "code",
   "execution_count": null,
   "id": "1fe27d84-e96d-4b41-abe3-bc44eb6ab91f",
   "metadata": {},
   "outputs": [],
   "source": []
  },
  {
   "cell_type": "markdown",
   "id": "13bd87a2-7ba9-456a-b95d-ac1b5e912823",
   "metadata": {},
   "source": [
    "___\n",
    "\n",
    "#### Ex 11.7"
   ]
  },
  {
   "cell_type": "code",
   "execution_count": null,
   "id": "1f2a53dc-d24e-4cd6-b883-bd4374a11b52",
   "metadata": {},
   "outputs": [],
   "source": []
  },
  {
   "cell_type": "markdown",
   "id": "cb981678-714c-41e7-ad70-ecaa97afcebc",
   "metadata": {},
   "source": [
    "#### Ex 11.8"
   ]
  },
  {
   "cell_type": "code",
   "execution_count": null,
   "id": "c63a9dac-e87e-4d83-9176-e83b5ff3e2ae",
   "metadata": {},
   "outputs": [],
   "source": []
  },
  {
   "cell_type": "markdown",
   "id": "707d5826-c69a-4050-b6ce-5989d16209ba",
   "metadata": {},
   "source": [
    "#### Ex 11.9"
   ]
  },
  {
   "cell_type": "code",
   "execution_count": null,
   "id": "83f06e7a-5169-4808-ba0c-fc267c37d3a3",
   "metadata": {},
   "outputs": [],
   "source": []
  },
  {
   "cell_type": "markdown",
   "id": "9539249e-acb2-49dd-a549-c1da1afdc15f",
   "metadata": {},
   "source": [
    "---\n",
    "\n",
    "#### Ex 11.10\n",
    "\n",
    "Find the average age of passengers that survived the titanic and compare it to the average age of those that did not survive.\n",
    "\n",
    "Which one is lower? Why?\n"
   ]
  },
  {
   "cell_type": "code",
   "execution_count": null,
   "id": "5aad1019-5323-425c-983f-d4881150c9b8",
   "metadata": {},
   "outputs": [],
   "source": []
  },
  {
   "cell_type": "markdown",
   "id": "91da38b9-791a-433d-8789-de0a107c9adc",
   "metadata": {},
   "source": [
    "#### Ex 11.11\n",
    "\n",
    "How many passengers survived the titanic in total?"
   ]
  },
  {
   "cell_type": "code",
   "execution_count": null,
   "id": "7fce6266-0b2b-4b6b-a565-d83b29452357",
   "metadata": {},
   "outputs": [],
   "source": []
  },
  {
   "cell_type": "markdown",
   "id": "14816d3a-8bae-465e-a239-3ebf26dac3f1",
   "metadata": {},
   "source": [
    "#### Ex 11.12\n",
    "\n",
    "What is the smallest fare paid by someone with a parent or a child (`Parch` is greather than `1`)?"
   ]
  },
  {
   "cell_type": "code",
   "execution_count": null,
   "id": "9277f6ab-2586-4d45-8f26-885fccb8ab92",
   "metadata": {},
   "outputs": [],
   "source": []
  },
  {
   "cell_type": "markdown",
   "id": "8a08adda-c586-4f0b-864f-6e70782b452b",
   "metadata": {},
   "source": [
    "#### Ex 11.12.1 (Extension!)\n",
    "\n",
    "Who paid more on average? Passengers embarked from Southhampton or from Cherbourg?\n",
    "And on average who had the oldest passengers?"
   ]
  },
  {
   "cell_type": "code",
   "execution_count": null,
   "id": "b538e2e0-1d9c-4e08-91c1-67a87cb77d08",
   "metadata": {},
   "outputs": [],
   "source": []
  },
  {
   "cell_type": "markdown",
   "id": "49559ef3-a5c4-49c0-bb7c-80701d14c2bc",
   "metadata": {},
   "source": [
    "---\n",
    "\n",
    "#### Ex 11.13"
   ]
  },
  {
   "cell_type": "code",
   "execution_count": null,
   "id": "2aeecd46-37b6-42f5-9c04-e9c05a83dde9",
   "metadata": {},
   "outputs": [],
   "source": []
  },
  {
   "cell_type": "markdown",
   "id": "b5fbc78e-349d-4feb-8533-480499c65433",
   "metadata": {},
   "source": [
    "#### Ex 11.14"
   ]
  },
  {
   "cell_type": "code",
   "execution_count": null,
   "id": "785f0f90-9e41-4562-b9eb-a7e5ba17dcfc",
   "metadata": {},
   "outputs": [],
   "source": []
  },
  {
   "cell_type": "markdown",
   "id": "16c30445-8117-447a-ab66-bcc8c066db82",
   "metadata": {},
   "source": [
    "---\n",
    "\n",
    "#### Ex 11.15\n",
    "\n",
    "Use `groupby` to calculate the average fare for every port that passengers embarked from.\n",
    "\n",
    "Which passenegrs had the most expensive fares?"
   ]
  },
  {
   "cell_type": "code",
   "execution_count": null,
   "id": "d8ec65ff-a93a-4efa-bd75-982e7d7baff5",
   "metadata": {},
   "outputs": [],
   "source": []
  },
  {
   "cell_type": "markdown",
   "id": "b5605d2a-0a3b-4046-b8fa-bf5c36813899",
   "metadata": {},
   "source": [
    "#### Ex 11.16\n",
    "\n",
    "Use `groupby` to calculate the average age in each passenger class.\n",
    "\n",
    "Which passenger class has the oldest members?"
   ]
  },
  {
   "cell_type": "code",
   "execution_count": null,
   "id": "4baac3fa-7868-4b0c-8710-5d7c6abdc852",
   "metadata": {},
   "outputs": [],
   "source": []
  },
  {
   "cell_type": "markdown",
   "id": "0d2e1734-8388-4e4e-be41-a06d9572442a",
   "metadata": {},
   "source": [
    "#### Ex 11.17\n",
    "\n",
    "Select passengers which are older than 50 years old, then group them by number of siblings or spouses and use `count` to find the total. \n",
    "\n",
    "Which category of passengers has the most members?"
   ]
  },
  {
   "cell_type": "code",
   "execution_count": null,
   "id": "58c49ee7-60d5-48d6-97d6-016321c8d363",
   "metadata": {},
   "outputs": [],
   "source": []
  },
  {
   "cell_type": "markdown",
   "id": "91831918-992b-4aa7-9260-769f1677e793",
   "metadata": {},
   "source": [
    "#### Ex 11.17.1 (Extension!)\n",
    "\n",
    "Of the passengers that survived find the average fare paid by the males and the females.\n",
    "\n",
    "Who paid on average more?\n",
    "\n",
    "**HINT**: Use `groupby`"
   ]
  },
  {
   "cell_type": "code",
   "execution_count": null,
   "id": "743dc06d-d514-4a7b-bf28-677090e928ad",
   "metadata": {},
   "outputs": [],
   "source": []
  }
 ],
 "metadata": {
  "kernelspec": {
   "display_name": "Python 3 (ipykernel)",
   "language": "python",
   "name": "python3"
  },
  "language_info": {
   "codemirror_mode": {
    "name": "ipython",
    "version": 3
   },
   "file_extension": ".py",
   "mimetype": "text/x-python",
   "name": "python",
   "nbconvert_exporter": "python",
   "pygments_lexer": "ipython3",
   "version": "3.8.10"
  }
 },
 "nbformat": 4,
 "nbformat_minor": 5
}
