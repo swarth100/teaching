{
 "cells": [
  {
   "cell_type": "markdown",
   "id": "f4fc79cd-ff32-482e-ae40-d6d47b207a9a",
   "metadata": {},
   "source": [
    "# If-Statements\n",
    "\n",
    "Recap on syntax:\n",
    "```python\n",
    "x = 5\n",
    "\n",
    "if x < 10:\n",
    "   print(\"X is small\")\n",
    "else:\n",
    "   print(\"X is large\")\n",
    "```\n",
    "____"
   ]
  },
  {
   "cell_type": "markdown",
   "id": "e7a143de-aa2d-4aa3-a4d7-555c821508ce",
   "metadata": {},
   "source": [
    "#### Ex 3.0\n",
    "\n",
    "The following progam asks the user for 3 numbers between 0 and 100, if they are valid it prints the max, min and average."
   ]
  },
  {
   "cell_type": "code",
   "execution_count": null,
   "id": "19cca76c-2fba-4783-a56a-9bcfe117f51f",
   "metadata": {},
   "outputs": [],
   "source": [
    "x = int(input(\"Insert the first number:\"))\n",
    "y = int(input(\"Insert the second number:\"))\n",
    "z = int(input(\"Insert the third number:\"))\n",
    "\n",
    "if _________:\n",
    "   print(\"ERROR: One or more numbers are invalid.\")\n",
    "    \n",
    "else:\n",
    "   max_number = _________\n",
    "   min_number = _________\n",
    "   avg_number = _________\n",
    "\n",
    "   print(\"Max number: \" + str(max_number))\n",
    "   print(\"Min number: \" + str(min_number))\n",
    "   print(\"Average number: \" + str(avg_number))\n"
   ]
  },
  {
   "cell_type": "markdown",
   "id": "e6be6952-e611-4736-8687-8310955e4c21",
   "metadata": {},
   "source": [
    "#### Ex 3.0.1 (Extension!)\n",
    "\n",
    "Extend the program above to also not allow the user to input the same number twice.\n",
    "\n",
    "(i.e. `x`, `y` and `z` should all be different numbers)"
   ]
  },
  {
   "cell_type": "markdown",
   "id": "90a022ca-12a7-4f42-9719-e498dbe90b45",
   "metadata": {},
   "source": [
    "____"
   ]
  },
  {
   "cell_type": "markdown",
   "id": "733fb360-c940-4311-b72c-3e54a3bc9dce",
   "metadata": {},
   "source": [
    "#### Ex 3.1\n",
    "\n",
    "The following program asks the user for a number.\n",
    "* If the number is divisible by 2 it prints “Fizz”.\n",
    "* If the number is divisible by 3 it prints “Buzz”.\n",
    "* If the number is divisible by both 2 and 3 it prints “FizzBuzz”.\n"
   ]
  },
  {
   "cell_type": "code",
   "execution_count": null,
   "id": "492360b7-b908-45f5-b3d2-b8d87aef8b97",
   "metadata": {},
   "outputs": [],
   "source": [
    "x = int(input(\"Insert a number:\"))\n",
    "\n",
    "if _________ and _________:\n",
    "   print(\"FizzBuzz\")\n",
    "elif _________:\n",
    "   print(\"Fizz\")\n",
    "elif _________:\n",
    "   print(\"Buzz\")\n"
   ]
  },
  {
   "cell_type": "markdown",
   "id": "38667e91-3f50-4d7a-a82b-eff1171bf112",
   "metadata": {},
   "source": [
    "#### Ex 3.1.1 (Extension!)\n",
    "\n",
    "Extend the program above to only use a single `if` and `else`.\n",
    "\n",
    "The program should not use any `elif` blocks.\n",
    "\n",
    "**HINT**: Remeber you can use string concatenation (i.e. `\"Hello\" + \" \" + \"World\"` returns `\"Hello World\"`)\n",
    "\n",
    "____"
   ]
  },
  {
   "cell_type": "markdown",
   "id": "ed6c5991-7dd0-433f-8b48-f2cc86f2703a",
   "metadata": {},
   "source": [
    "# While-Loops"
   ]
  },
  {
   "cell_type": "markdown",
   "id": "edaf14ec-7240-4518-8b6a-eecb24b691b1",
   "metadata": {},
   "source": [
    "#### Ex 3.2\n",
    "\n",
    "Change the `if` statement to a `while` loop"
   ]
  },
  {
   "cell_type": "code",
   "execution_count": null,
   "id": "2665008f-c471-4d04-9ccc-b40a5a90bf2d",
   "metadata": {},
   "outputs": [],
   "source": [
    "x = int(input(\"Insert num < 5: \"))\n",
    "\n",
    "if x >= 5:\n",
    "    print(\"ERROR! Wrong number\")\n",
    "    x = int(input(\"Insert num < 5: \"))\n",
    "\n",
    "print(\"CORRECT!\")\n"
   ]
  },
  {
   "cell_type": "markdown",
   "id": "3039174b-1825-46dd-94ed-8b497d9bcdf1",
   "metadata": {},
   "source": [
    "#### Ex 3.2.1 (Extension!)\n",
    "\n",
    "Extend the program to allow users to insert numbers that are:\n",
    "* Less than 5\n",
    "* Greater than 100\n",
    "* Even\n",
    "\n",
    "If any of the above conditions is true about the number it should be considered `CORRECT`.\n",
    "\n",
    "____"
   ]
  },
  {
   "cell_type": "markdown",
   "id": "9447969d-1552-486f-8253-8fc87c820b3a",
   "metadata": {},
   "source": [
    "**REMEMBER**: Anatomy of a while-loop\n",
    "\n",
    "* Uses the `while` keyword\n",
    "* Ends with a colon (`:`)\n",
    "* Uses tabs for spacing from the outside scope\n",
    "\n",
    "**Example**:\n",
    "\n",
    "```python\n",
    "x = 5\n",
    "\n",
    "while x < 10:\n",
    "    print(x)\n",
    "    x += 1\n",
    "```"
   ]
  },
  {
   "cell_type": "markdown",
   "id": "f37d89f5-b916-435c-bf25-cff1e6e5c2e8",
   "metadata": {},
   "source": [
    "#### Ex 3.3\n",
    "\n",
    "Complete the following program that prints out all the numbers from 1 to 15"
   ]
  },
  {
   "cell_type": "code",
   "execution_count": null,
   "id": "f7dc296e-6a71-4411-93d3-3c1289a052bd",
   "metadata": {},
   "outputs": [],
   "source": [
    "x = 1\n",
    "\n",
    "while _________:\n",
    "    print(x)\n",
    "    x += 1"
   ]
  },
  {
   "cell_type": "markdown",
   "id": "1b626628-1b21-4616-9f2d-6bf5bbb9d964",
   "metadata": {},
   "source": [
    "____\n",
    "\n",
    "#### Ex 3.4\n",
    "\n",
    "Complete the following program that prints out the first 15 multiples of 6\n",
    "\n",
    "(i.e. it should print `6`, `12`, `18`, `24`, ... all the way to `90`)"
   ]
  },
  {
   "cell_type": "code",
   "execution_count": null,
   "id": "6a77aff9-7eb0-40ce-9ad4-d46eb2644c08",
   "metadata": {},
   "outputs": [],
   "source": [
    "x = _________\n",
    "\n",
    "while _________:\n",
    "    print(x)\n",
    "    _________"
   ]
  },
  {
   "cell_type": "markdown",
   "id": "113df4cd-ad01-4320-b660-a936d4505662",
   "metadata": {},
   "source": [
    "#### Ex 3.4.1 (Extension!)\n",
    "\n",
    "Extend the program above so that it prints out more information on each output line.\n",
    "\n",
    "Rather than printing:\n",
    "```\n",
    "6\n",
    "12\n",
    "18\n",
    "...\n",
    "90\n",
    "```\n",
    "\n",
    "It should print\n",
    "```\n",
    "6 x 1 = 6\n",
    "6 x 2 = 12\n",
    "6 x 3 = 18\n",
    "...\n",
    "6 x 15 = 90\n",
    "```\n",
    "\n",
    "**HINT**: Remeber to use string concatenation with `+`\n",
    "\n",
    "____"
   ]
  },
  {
   "cell_type": "markdown",
   "id": "13b9c18b-0b52-4d04-8b07-a09d82df7537",
   "metadata": {},
   "source": [
    "# For-Loops\n",
    "\n",
    "**REMEMBER**: Anatomy of a for-loop\n",
    "\n",
    "* Uses the `for` keyword\n",
    "* Ends with a colon (`:`)\n",
    "* Takes up to 3 parameters:\n",
    "    1. Start number (optional, default is 0)\n",
    "    1. End number\n",
    "    1. Step-size (optional, default is 1)\n",
    "\n",
    "**Examples**:\n",
    "\n",
    "```python\n",
    "for x in range(10):\n",
    "   print(x)\n",
    "```\n",
    "\n",
    "```python\n",
    "for x in range(2, 10):\n",
    "   print(x)\n",
    "```\n",
    "\n",
    "```python\n",
    "for x in range(2, 10, 3):\n",
    "   print(x)\n",
    "```"
   ]
  },
  {
   "cell_type": "markdown",
   "id": "f020383a-2b22-4015-a2ee-4287831a77f8",
   "metadata": {},
   "source": [
    "#### Ex 3.5\n",
    "\n",
    "Complete the following program to print all numbers from 0 to 15"
   ]
  },
  {
   "cell_type": "code",
   "execution_count": null,
   "id": "551e6c25-0f66-4f89-89ef-7a6e28c998e2",
   "metadata": {},
   "outputs": [],
   "source": [
    "for x in _________:\n",
    "    print(x)"
   ]
  },
  {
   "cell_type": "markdown",
   "id": "4014eb85-4c42-45e0-a493-8758c7752480",
   "metadata": {},
   "source": [
    "____\n",
    "\n",
    "#### Ex 3.6\n",
    "\n",
    "Complete the following program to print all numbers from 5 to 20"
   ]
  },
  {
   "cell_type": "code",
   "execution_count": null,
   "id": "195e617c-2567-4d84-a132-27a0028c3b21",
   "metadata": {},
   "outputs": [],
   "source": [
    "for x in _________:\n",
    "    print(x)"
   ]
  },
  {
   "cell_type": "markdown",
   "id": "1f965f24-a18e-458e-8240-add803f1c231",
   "metadata": {},
   "source": [
    "____\n",
    "\n",
    "#### Ex 3.7\n",
    "\n",
    "Complete the following program to print all even numbers from 10 to 30\n",
    "\n",
    "**HINT**: Use the step-size parameter in the for-loop"
   ]
  },
  {
   "cell_type": "code",
   "execution_count": null,
   "id": "6ec19ca1-e8e5-441e-b18b-b796daa81ebe",
   "metadata": {},
   "outputs": [],
   "source": [
    "for x in _________:\n",
    "    print(x)"
   ]
  },
  {
   "cell_type": "markdown",
   "id": "2fbadc0a-4bdd-4647-be70-f6c9c9a80e6d",
   "metadata": {},
   "source": [
    "____\n",
    "\n",
    "#### Ex 3.8\n",
    "\n",
    "Using a for-loop complete the following program that prints out the first 15 multiples of 6\n",
    "\n",
    "(i.e. it should print `6`, `12`, `18`, `24`, ... all the way to `90`)"
   ]
  },
  {
   "cell_type": "code",
   "execution_count": null,
   "id": "1f9751de-83c9-4553-93e0-3326af39d354",
   "metadata": {},
   "outputs": [],
   "source": [
    "for x in _________:\n",
    "    _________"
   ]
  },
  {
   "cell_type": "markdown",
   "id": "6aa5ca46-38a1-4c1f-b42b-16e88d859154",
   "metadata": {},
   "source": [
    "#### Ex 3.8.1 (Extension!)\n",
    "\n",
    "Extend the above program to be able to print out any \"times-table\" for any number.\n",
    "\n",
    "It should use the `input` function to take input from the user and then print out the first 10 multiples for that number.\n",
    "\n",
    "#### Ex 3.8.2 (Extension!)\n",
    "\n",
    "Extend the above program to pretty-print the \"times-table\", similarly to exercise `3.4.1`\n",
    "\n",
    "____"
   ]
  },
  {
   "cell_type": "markdown",
   "id": "2ad4e11b-ba69-4d6e-bcac-933411696365",
   "metadata": {},
   "source": [
    "#### Ex 3.9\n",
    "\n",
    "Complete the following program.\n",
    "\n",
    "It takes an input `num` from the user.\n",
    "\n",
    "It should print out FULL square pattern of size `num`.\n",
    "\n",
    "Example if `num = 4`:\n",
    "\n",
    "```\n",
    "****\n",
    "****\n",
    "****\n",
    "****\n",
    "```\n",
    "\n",
    "**HINT**: Use loops!"
   ]
  },
  {
   "cell_type": "code",
   "execution_count": null,
   "id": "472bee2a-e06c-4a14-8873-459a21359cb6",
   "metadata": {},
   "outputs": [],
   "source": [
    "num = int(input(\"Insert the size of the square: \"))\n",
    "\n",
    "_________"
   ]
  },
  {
   "cell_type": "markdown",
   "id": "d2f56bf4-02e0-4c52-ae83-57ad78f17590",
   "metadata": {},
   "source": [
    "#### Ex 3.9.1 (Extension!)\n",
    "\n",
    "Extend the above program so that it should print out an EMPTY square pattern of size `num`.\n",
    "\n",
    "Example if `num = 5`:\n",
    "\n",
    "```\n",
    "*****\n",
    "*...*\n",
    "*...*\n",
    "*...*\n",
    "*****\n",
    "```\n",
    "\n",
    "____"
   ]
  },
  {
   "cell_type": "markdown",
   "id": "0fac1848-14c1-4983-87d0-22977e27a786",
   "metadata": {},
   "source": [
    "#### Ex 3.10\n",
    "\n",
    "Complete the following program.\n",
    "\n",
    "It takes an input `num` from the user.\n",
    "\n",
    "It should print out a triangular pattern of size `num`.\n",
    "\n",
    "Example if `num = 5`:\n",
    "\n",
    "```\n",
    "....*\n",
    "...**\n",
    "..***\n",
    ".****\n",
    "*****\n",
    "```\n",
    "\n",
    "**HINT**: Use loops!"
   ]
  },
  {
   "cell_type": "code",
   "execution_count": null,
   "id": "0d108633-0e36-4cae-975a-13f3d3840b11",
   "metadata": {},
   "outputs": [],
   "source": [
    "num = int(input(\"Insert the size of the triangle: \"))\n",
    "\n",
    "_________"
   ]
  },
  {
   "cell_type": "markdown",
   "id": "003e60c5-5312-427d-9e65-87a78acc033e",
   "metadata": {},
   "source": [
    "#### Ex 3.10.1 (Extension!)\n",
    "\n",
    "Extend the above program so that it should print out a full pyramid pattern of height `num`.\n",
    "\n",
    "Example if `num = 4`:\n",
    "\n",
    "```\n",
    "...*...\n",
    "..***..\n",
    ".*****.\n",
    "*******\n",
    "```\n",
    "\n",
    "____"
   ]
  },
  {
   "cell_type": "code",
   "execution_count": null,
   "id": "87b3e3da-8e44-4d1f-839b-25a58b6f859a",
   "metadata": {},
   "outputs": [],
   "source": []
  }
 ],
 "metadata": {
  "kernelspec": {
   "display_name": "Python 3 (ipykernel)",
   "language": "python",
   "name": "python3"
  },
  "language_info": {
   "codemirror_mode": {
    "name": "ipython",
    "version": 3
   },
   "file_extension": ".py",
   "mimetype": "text/x-python",
   "name": "python",
   "nbconvert_exporter": "python",
   "pygments_lexer": "ipython3",
   "version": "3.8.10"
  }
 },
 "nbformat": 4,
 "nbformat_minor": 5
}
