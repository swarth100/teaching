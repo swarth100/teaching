{
 "cells": [
  {
   "cell_type": "markdown",
   "id": "58a1c952-5d6d-4ee1-b634-466ec3f89d58",
   "metadata": {},
   "source": [
    "#### Ex 13.0"
   ]
  },
  {
   "cell_type": "code",
   "execution_count": null,
   "id": "c44585f5-d21f-4dad-8e66-a5e017f5cb75",
   "metadata": {},
   "outputs": [],
   "source": [
    "import pandas as pd\n",
    "import numpy as np\n",
    "\n",
    "import matplotlib.pyplot as plt\n",
    "import seaborn as sns\n",
    "sns.set_style('whitegrid')\n",
    "%matplotlib inline\n",
    "\n",
    "# Custom function for plotting 2D plots\n",
    "def plot_2d(x, y, c=\"Survived\"):\n",
    "    df.groupby([x, y])[c]\\\n",
    "        .mean()\\\n",
    "        .reset_index()\\\n",
    "        .plot(kind='scatter', x=x, y=y, c=c, colormap='viridis')\n",
    "\n",
    "# Custom funciton for plotting 3D plots\n",
    "def plot_3d(x, y, z, c=\"Survived\"):\n",
    "    fig = plt.figure(figsize=(10, 7))\n",
    "    ax = fig.add_subplot(111, projection='3d')\n",
    "\n",
    "    dfm = df.groupby([x, y, z])[c].mean().reset_index()\n",
    "    \n",
    "    # Creating the plot\n",
    "    sc = ax.scatter(xs=dfm[x], ys=dfm[y], zs=dfm[z], c=dfm[c], cmap='viridis', edgecolor='k', s=40, alpha=0.7)\n",
    "    \n",
    "    # Adding color bar\n",
    "    plt.colorbar(sc, ax=ax, label=c)\n",
    "    \n",
    "    # Setting the labels\n",
    "    ax.set_xlabel(x)\n",
    "    ax.set_ylabel(y)\n",
    "    ax.set_zlabel(z)\n",
    "    \n",
    "    # Title\n",
    "    ax.set_title('3D Scatter Plot')\n",
    "    \n",
    "    plt.show()"
   ]
  },
  {
   "cell_type": "markdown",
   "id": "44b741f3-a574-4bdc-93e8-a6b125487c1f",
   "metadata": {},
   "source": [
    "#### Ex 13.1"
   ]
  },
  {
   "cell_type": "code",
   "execution_count": null,
   "id": "54462a39-ab37-4706-8a12-349d20289d68",
   "metadata": {},
   "outputs": [],
   "source": [
    "df = pd.read_csv(\"titanic_dataset.csv\")\n",
    "df"
   ]
  },
  {
   "cell_type": "markdown",
   "id": "f934f538-6397-47e8-a0a0-b80fd5549c6b",
   "metadata": {},
   "source": [
    "#### Ex 13.2"
   ]
  },
  {
   "cell_type": "code",
   "execution_count": null,
   "id": "9c05600f-1bd2-4706-9da7-ba769a9352cb",
   "metadata": {},
   "outputs": [],
   "source": [
    "test_df = pd.read_csv(\"test_dataset.csv\")\n",
    "\n",
    "(len(df), len(test_df))"
   ]
  },
  {
   "cell_type": "markdown",
   "id": "38e31261-b329-4966-8b67-6d52dcf1b07c",
   "metadata": {},
   "source": [
    "____\n",
    "\n",
    "## (13.3) Feature Engineering: Missing \"Embarked\" values"
   ]
  },
  {
   "cell_type": "markdown",
   "id": "d6a64172-ba13-4a43-b35a-b46091c852c1",
   "metadata": {},
   "source": [
    "\n",
    "#### Ex 13.3.1"
   ]
  },
  {
   "cell_type": "code",
   "execution_count": null,
   "id": "e2dc2cd0-98a6-467c-a539-ab6ca650cec9",
   "metadata": {},
   "outputs": [],
   "source": [
    "df[pd.isna(df[\"Embarked\"])]"
   ]
  },
  {
   "cell_type": "markdown",
   "id": "cf724880-6e36-4b1f-8205-3db8b36aa6c6",
   "metadata": {},
   "source": [
    "#### Ex 13.3.2"
   ]
  },
  {
   "cell_type": "code",
   "execution_count": null,
   "id": "d73b4f1b-6cbb-497d-93ee-6f7cca020258",
   "metadata": {},
   "outputs": [],
   "source": [
    "df['Embarked'].value_counts(dropna=False).plot(kind='bar')"
   ]
  },
  {
   "cell_type": "markdown",
   "id": "2b78057b-136b-45de-9701-7b198bf069e8",
   "metadata": {},
   "source": [
    "#### Ex 13.3.3"
   ]
  },
  {
   "cell_type": "code",
   "execution_count": null,
   "id": "daa07ac5-5e3d-4d69-93be-da5576da29bc",
   "metadata": {},
   "outputs": [],
   "source": [
    "# Possible values are 'S', 'C' or 'Q'\n",
    "df['Embarked'] = df['Embarked'].fillna(value=_______)"
   ]
  },
  {
   "cell_type": "markdown",
   "id": "08165b31-68f4-4d36-b1d9-a5c5b1edfb20",
   "metadata": {},
   "source": [
    "#### Ex 13.3.4"
   ]
  },
  {
   "cell_type": "code",
   "execution_count": null,
   "id": "e9cbb989-39bc-4c87-869a-db4efb5b84de",
   "metadata": {},
   "outputs": [],
   "source": [
    "df[pd.isna(df[\"Embarked\"])][\"Name\"].count()"
   ]
  },
  {
   "cell_type": "markdown",
   "id": "b1ed2305-a155-40f1-afbf-dda6c5933ca8",
   "metadata": {},
   "source": [
    "____\n",
    "\n",
    "## (13.4) Feature Engineering: Missing \"Age\" values"
   ]
  },
  {
   "cell_type": "markdown",
   "id": "fa4cd175-021f-4f30-8d6d-8c7b17c5c904",
   "metadata": {},
   "source": [
    "#### Ex 13.4.1"
   ]
  },
  {
   "cell_type": "code",
   "execution_count": null,
   "id": "8604403f-fbe2-4038-8a7d-7cd232dfce79",
   "metadata": {},
   "outputs": [],
   "source": [
    "df[pd.isna(df[\"Age\"])]"
   ]
  },
  {
   "cell_type": "markdown",
   "id": "5351a7c9-82cc-4a11-8bcf-a9ee8b815897",
   "metadata": {},
   "source": [
    "\n",
    "#### Ex 13.4.2"
   ]
  },
  {
   "cell_type": "code",
   "execution_count": null,
   "id": "4bc2ff39-bedc-4e85-bc91-933f51f9ddd9",
   "metadata": {},
   "outputs": [],
   "source": [
    "# You can use any valid dataframe column in the x-axis, which ones are more correlated with age?\n",
    "# I.e. you may use 'Name', 'Sex, 'Pclass', 'Fare', etc...\n",
    "df.plot(kind='scatter', x=_______, y='Age')"
   ]
  },
  {
   "cell_type": "markdown",
   "id": "04e6664a-7ffc-458b-9911-ddc3e57851e3",
   "metadata": {},
   "source": [
    "#### Ex 13.4.3"
   ]
  },
  {
   "cell_type": "code",
   "execution_count": null,
   "id": "67a00ca2-2b38-45bd-b65a-435eaa4cd55a",
   "metadata": {},
   "outputs": [],
   "source": [
    "plt.figure(figsize=(4,10))\n",
    "sns.heatmap(df.copy().apply(lambda col: col.astype('category').cat.codes if col.dtype == 'object' else col).corr()[[\"Age\"]], vmax=0.6, square=True, annot=True)"
   ]
  },
  {
   "cell_type": "markdown",
   "id": "339f1624-77ba-47f6-9688-32fc12a4fab2",
   "metadata": {},
   "source": [
    "#### Ex 13.4.4"
   ]
  },
  {
   "cell_type": "code",
   "execution_count": null,
   "id": "ea061202-cc8c-4742-8c07-2e6ec73129a4",
   "metadata": {},
   "outputs": [],
   "source": [
    "plot_2d(x='SibSp', y='Pclass', c='Age')"
   ]
  },
  {
   "cell_type": "markdown",
   "id": "3f18902c-3380-467a-a456-7e9e7f386b6d",
   "metadata": {},
   "source": [
    "#### Ex 13.4.5"
   ]
  },
  {
   "cell_type": "code",
   "execution_count": null,
   "id": "f9e5d000-98aa-44f5-8e7a-09c2b5a5bc79",
   "metadata": {},
   "outputs": [],
   "source": [
    "df.groupby(['SibSp', 'Pclass'])['Age'].mean()"
   ]
  },
  {
   "cell_type": "markdown",
   "id": "4b1304e6-a4ec-4f79-aeda-51277ab59d25",
   "metadata": {},
   "source": [
    "#### Ex 13.4.6"
   ]
  },
  {
   "cell_type": "code",
   "execution_count": null,
   "id": "f205395e-4e71-4672-a359-0693c7050f92",
   "metadata": {},
   "outputs": [],
   "source": [
    "sibsp_pclass_averages = df.groupby(['SibSp', 'Pclass'])['Age'].transform('mean')\n",
    "df['Age'] = df['Age'].fillna(sibsp_pclass_averages)"
   ]
  },
  {
   "cell_type": "markdown",
   "id": "e6c7442c-3ec0-4c74-aaee-445881aec8a8",
   "metadata": {},
   "source": [
    "#### Ex 13.4.7"
   ]
  },
  {
   "cell_type": "code",
   "execution_count": null,
   "id": "05b99b89-32aa-4852-b4aa-0540aa038df3",
   "metadata": {},
   "outputs": [],
   "source": [
    "df[pd.isna(df[\"Age\"])]"
   ]
  },
  {
   "cell_type": "markdown",
   "id": "3737688b-e10c-4682-9e50-6bdd6d7cd852",
   "metadata": {},
   "source": [
    "#### Ex 13.4.8"
   ]
  },
  {
   "cell_type": "code",
   "execution_count": null,
   "id": "f777f21b-94f0-4db9-a1d6-c4b30a5b256f",
   "metadata": {},
   "outputs": [],
   "source": [
    "# We need to insert a float, but which float will you pick? 25.6? 19.1? Some other number?\n",
    "df['Age'] = df['Age'].fillna(value=_______)"
   ]
  },
  {
   "cell_type": "markdown",
   "id": "2148b4d1-9aec-46e0-9fcb-bb93e9b10393",
   "metadata": {},
   "source": [
    "#### Ex 13.4.9"
   ]
  },
  {
   "cell_type": "code",
   "execution_count": null,
   "id": "ff1be52f-2387-4d99-84b3-c9872173a7da",
   "metadata": {},
   "outputs": [],
   "source": [
    "df[pd.isna(df[\"Age\"])][\"Name\"].count()"
   ]
  },
  {
   "cell_type": "markdown",
   "id": "0a582eb4-5d22-4591-b2f3-ee2f5ea3bd2d",
   "metadata": {},
   "source": [
    "____\n",
    "\n",
    "## (13.5) Feature Engineering: Categorization"
   ]
  },
  {
   "cell_type": "markdown",
   "id": "bf43ed9c-5d9e-4802-8c78-7ada370436e0",
   "metadata": {},
   "source": [
    "\n",
    "#### Ex 13.5.1"
   ]
  },
  {
   "cell_type": "code",
   "execution_count": null,
   "id": "a04863cb-68e2-4d7d-a0a7-cb6570f0aaa9",
   "metadata": {},
   "outputs": [],
   "source": [
    "df['CatSex'] = df['Sex'].map({'male': 0, 'female': 1})\n",
    "df['CatEmbarked'] = df['Embarked'].map({'S': 0, 'C': 1, 'Q':2})\n",
    "\n",
    "df"
   ]
  },
  {
   "cell_type": "markdown",
   "id": "4d1d4fa2-1595-4772-967c-a1e99da35eb6",
   "metadata": {},
   "source": [
    "#### Ex 13.5.2"
   ]
  },
  {
   "cell_type": "code",
   "execution_count": null,
   "id": "11ec1abd-f5f8-48e2-96cf-5375968f81ab",
   "metadata": {},
   "outputs": [],
   "source": [
    "age_buckets = np.linspace(0, 80, _______)\n",
    "\n",
    "age_buckets"
   ]
  },
  {
   "cell_type": "markdown",
   "id": "9cddbce2-0c12-4835-b489-6f114bff2c37",
   "metadata": {},
   "source": [
    "#### Ex 13.5.3"
   ]
  },
  {
   "cell_type": "code",
   "execution_count": null,
   "id": "6891bed5-1a1a-4efa-b7ed-222f565b39f6",
   "metadata": {},
   "outputs": [],
   "source": [
    "df['CatAge'] = pd.cut(df['Age'], age_buckets, labels=False)\n",
    "\n",
    "df"
   ]
  },
  {
   "cell_type": "markdown",
   "id": "c35640a2-af1c-4864-9930-cf588b7747e5",
   "metadata": {},
   "source": [
    "#### Ex 13.5.4"
   ]
  },
  {
   "cell_type": "code",
   "execution_count": null,
   "id": "5e398ab2-2be1-416b-8491-0a500fe1f463",
   "metadata": {},
   "outputs": [],
   "source": [
    "fare_buckets = np.linspace(0, 520, _______)\n",
    "\n",
    "fare_buckets"
   ]
  },
  {
   "cell_type": "markdown",
   "id": "6cdd0858-0025-480c-a2b1-e7bccfa86054",
   "metadata": {},
   "source": [
    "#### Ex 13.5.5"
   ]
  },
  {
   "cell_type": "code",
   "execution_count": null,
   "id": "f49bc6fb-e8f5-4eac-8220-6c48e8063e13",
   "metadata": {},
   "outputs": [],
   "source": [
    "df['CatFare'] = pd.cut(df['Fare'], fare_buckets, labels=False)\n",
    "\n",
    "df"
   ]
  },
  {
   "cell_type": "markdown",
   "id": "582e8d0e-b798-41f1-a40d-f0f5ad785b92",
   "metadata": {},
   "source": [
    "____\n",
    "\n",
    "## (13.6) Feature Engineering: Visualising Linear Correlations"
   ]
  },
  {
   "cell_type": "markdown",
   "id": "c8403a9a-6de5-4df6-9eee-3831d5d5497c",
   "metadata": {},
   "source": [
    "#### Ex 13.6.1"
   ]
  },
  {
   "cell_type": "code",
   "execution_count": null,
   "id": "6855a112-e48b-446b-ae0c-bd076df335b3",
   "metadata": {},
   "outputs": [],
   "source": [
    "train_df = df.drop(['PassengerId', 'Name', 'Sex', 'Age', 'Ticket', 'Fare', 'Cabin', 'Embarked'],axis=1)\n",
    "train_df"
   ]
  },
  {
   "cell_type": "markdown",
   "id": "0c32f806-c79a-43b0-bcb4-c18900635e57",
   "metadata": {},
   "source": [
    "#### Ex 13.6.2"
   ]
  },
  {
   "cell_type": "code",
   "execution_count": null,
   "id": "07b26fc4-f698-462a-b20d-74dcd6f5aa64",
   "metadata": {},
   "outputs": [],
   "source": [
    "plt.figure(figsize=(8,6))\n",
    "sns.heatmap(train_df.corr(), vmax=0.6, square=True, annot=True)"
   ]
  },
  {
   "cell_type": "markdown",
   "id": "931f5d08-23b0-455e-b9de-3f870b10d9c7",
   "metadata": {},
   "source": [
    "#### Ex 13.6.3"
   ]
  },
  {
   "cell_type": "code",
   "execution_count": null,
   "id": "1982be3e-31a3-443d-a01e-c511326b9afa",
   "metadata": {},
   "outputs": [],
   "source": [
    "plot_2d(x='Parch', y='CatFare')"
   ]
  },
  {
   "cell_type": "markdown",
   "id": "17d9917d-cfba-4946-8f80-2d8887e37662",
   "metadata": {},
   "source": [
    "#### Ex 13.6.4"
   ]
  },
  {
   "cell_type": "code",
   "execution_count": null,
   "id": "78686dac-1a7a-4344-94db-d0ab57a119d4",
   "metadata": {},
   "outputs": [],
   "source": [
    "plot_2d(x='SibSp', y='CatAge')"
   ]
  },
  {
   "cell_type": "markdown",
   "id": "c4f29b5c-86b0-4a5c-88d9-e2a790fb6979",
   "metadata": {},
   "source": [
    "#### Ex 13.6.5"
   ]
  },
  {
   "cell_type": "code",
   "execution_count": null,
   "id": "9f8a7c8b-bcf5-4d1c-a911-ff8da7d341c9",
   "metadata": {},
   "outputs": [],
   "source": [
    "plot_2d(x='Pclass', y='CatSex')"
   ]
  },
  {
   "cell_type": "markdown",
   "id": "9a9eeea3-d630-4ba0-b6ab-b67783174eaf",
   "metadata": {},
   "source": [
    "#### Ex 13.6.6"
   ]
  },
  {
   "cell_type": "code",
   "execution_count": null,
   "id": "dea77dde-64d0-4a67-95e4-4531efd04a4e",
   "metadata": {},
   "outputs": [],
   "source": [
    "fig, axs = plt.subplots(ncols=2, figsize=(15,5))\n",
    "axs[0].set_title('female')\n",
    "sns.countplot(x='Pclass', hue='Survived', data=train_df.loc[train_df['CatSex'] == True], ax=axs[0])\n",
    "axs[1].set_title('male')\n",
    "sns.countplot(x='Pclass', hue='Survived', data=train_df.loc[train_df['CatSex'] == False], ax=axs[1])"
   ]
  },
  {
   "cell_type": "markdown",
   "id": "ef65e5fd-28bc-4cd5-9a53-6e8413892514",
   "metadata": {},
   "source": [
    "#### Ex 13.6.7"
   ]
  },
  {
   "cell_type": "code",
   "execution_count": null,
   "id": "ad02c240-485b-4dfb-837f-59145e8d8df8",
   "metadata": {},
   "outputs": [],
   "source": [
    "plot_3d(\"Parch\", \"CatEmbarked\", \"CatFare\")"
   ]
  },
  {
   "cell_type": "markdown",
   "id": "83704a6c-4861-4e84-a70a-c8b4276dddf1",
   "metadata": {},
   "source": [
    "#### Ex 13.6.8"
   ]
  },
  {
   "cell_type": "code",
   "execution_count": null,
   "id": "5e9d92b4-555b-4a7f-a9e3-fbd403e298b6",
   "metadata": {},
   "outputs": [],
   "source": [
    "plot_3d(\"Parch\", \"SibSp\", \"CatFare\")"
   ]
  },
  {
   "cell_type": "markdown",
   "id": "caa62abb-9643-4425-b454-36aa48109a4a",
   "metadata": {},
   "source": [
    "#### Ex 13.6.9"
   ]
  },
  {
   "cell_type": "code",
   "execution_count": null,
   "id": "8655bbc2-7eac-4196-b135-c71ec5a40dda",
   "metadata": {},
   "outputs": [],
   "source": [
    "plot_3d(_______, _______, _______)"
   ]
  },
  {
   "cell_type": "code",
   "execution_count": null,
   "id": "464fa331-9f11-4d6f-beff-c80403fba9ca",
   "metadata": {},
   "outputs": [],
   "source": []
  }
 ],
 "metadata": {
  "kernelspec": {
   "display_name": "Python 3 (ipykernel)",
   "language": "python",
   "name": "python3"
  },
  "language_info": {
   "codemirror_mode": {
    "name": "ipython",
    "version": 3
   },
   "file_extension": ".py",
   "mimetype": "text/x-python",
   "name": "python",
   "nbconvert_exporter": "python",
   "pygments_lexer": "ipython3",
   "version": "3.8.10"
  }
 },
 "nbformat": 4,
 "nbformat_minor": 5
}
