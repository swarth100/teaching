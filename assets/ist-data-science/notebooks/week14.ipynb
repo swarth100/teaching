{
 "cells": [
  {
   "cell_type": "markdown",
   "id": "58a1c952-5d6d-4ee1-b634-466ec3f89d58",
   "metadata": {},
   "source": [
    "#### Ex 14.0"
   ]
  },
  {
   "cell_type": "code",
   "execution_count": 4,
   "id": "c44585f5-d21f-4dad-8e66-a5e017f5cb75",
   "metadata": {},
   "outputs": [],
   "source": [
    "import pandas as pd\n",
    "import numpy as np\n",
    "\n",
    "from sklearn.metrics import accuracy_score\n",
    "from sklearn.ensemble import GradientBoostingClassifier\n",
    "\n",
    "from sklearn.model_selection import GridSearchCV\n",
    "from sklearn.metrics import make_scorer\n",
    "\n",
    "from xgboost import XGBClassifier\n",
    "from xgboost import plot_importance\n",
    "\n",
    "import matplotlib.pyplot as plt\n",
    "import seaborn as sns\n",
    "sns.set_style('whitegrid')\n",
    "%matplotlib inline\n",
    "\n",
    "# Custom function for plotting 1D plots\n",
    "def plot_1d(x, c=\"Survived\"):\n",
    "    y = \"stub\"\n",
    "    df[y] = 0\n",
    "    plot_2d(x, y)\n",
    "    del df[y]\n",
    "\n",
    "# Custom function for plotting 2D plots\n",
    "def plot_2d(x, y, c=\"Survived\"):\n",
    "    df.groupby([x, y])[c]\\\n",
    "        .mean()\\\n",
    "        .reset_index()\\\n",
    "        .plot(kind='scatter', x=x, y=y, c=c, colormap='viridis')\n",
    "\n",
    "# Custom funciton for plotting 3D plots\n",
    "def plot_3d(x, y, z, c=\"Survived\"):\n",
    "    fig = plt.figure(figsize=(10, 7))\n",
    "    ax = fig.add_subplot(111, projection='3d')\n",
    "\n",
    "    dfm = df.groupby([x, y, z])[c].mean().reset_index()\n",
    "    \n",
    "    # Creating the plot\n",
    "    sc = ax.scatter(xs=dfm[x], ys=dfm[y], zs=dfm[z], c=dfm[c], cmap='viridis', edgecolor='k', s=40, alpha=0.7)\n",
    "    \n",
    "    # Adding color bar\n",
    "    plt.colorbar(sc, ax=ax, label=c)\n",
    "    \n",
    "    # Setting the labels\n",
    "    ax.set_xlabel(x)\n",
    "    ax.set_ylabel(y)\n",
    "    ax.set_zlabel(z)\n",
    "    \n",
    "    # Title\n",
    "    ax.set_title('3D Scatter Plot')\n",
    "    \n",
    "    plt.show()\n",
    "\n",
    "def plot_predictions(x, y, z, model, df_x, df_y):\n",
    "    # Initialize plot\n",
    "    fig = plt.figure(figsize=(10, 7))\n",
    "    ax = fig.add_subplot(111, projection='3d')\n",
    "    \n",
    "    # Predict on the entire dataset\n",
    "    predictions = model.predict(df_x)\n",
    "    \n",
    "    # Plot correctly classified points\n",
    "    correct_survived = df_x[(df_y == 1) & (predictions == 1)]\n",
    "    correct_not_survived = df_x[(df_y == 0) & (predictions == 0)]\n",
    "    ax.scatter(correct_survived[x], correct_survived[y], correct_survived[z], c='g', marker='o', label='Correctly Survived')\n",
    "    ax.scatter(correct_not_survived[x], correct_not_survived[y], correct_not_survived[z], c='r', marker='x', label='Correctly Not Survived')\n",
    "    \n",
    "    # Plot incorrectly classified points\n",
    "    incorrect_survived = df_x[(df_y == 1) & (predictions == 0)]\n",
    "    incorrect_not_survived = df_x[(df_y == 0) & (predictions == 1)]\n",
    "    ax.scatter(incorrect_survived[x], incorrect_survived[y], incorrect_survived[z], c='orange', marker='o', label='Incorrectly Predicted as Survived')\n",
    "    ax.scatter(incorrect_not_survived[x], incorrect_not_survived[y], incorrect_not_survived[z], c='purple', marker='x', label='Incorrectly Predicted as Not Survived')\n",
    "    \n",
    "    # Set labels\n",
    "    ax.set_xlabel(x)\n",
    "    ax.set_ylabel(y)\n",
    "    ax.set_zlabel(z)\n",
    "    \n",
    "    plt.legend()\n",
    "    plt.show()"
   ]
  },
  {
   "cell_type": "markdown",
   "id": "44b741f3-a574-4bdc-93e8-a6b125487c1f",
   "metadata": {},
   "source": [
    "#### Ex 14.1"
   ]
  },
  {
   "cell_type": "code",
   "execution_count": 5,
   "id": "54462a39-ab37-4706-8a12-349d20289d68",
   "metadata": {},
   "outputs": [
    {
     "data": {
      "text/html": [
       "<div>\n",
       "<style scoped>\n",
       "    .dataframe tbody tr th:only-of-type {\n",
       "        vertical-align: middle;\n",
       "    }\n",
       "\n",
       "    .dataframe tbody tr th {\n",
       "        vertical-align: top;\n",
       "    }\n",
       "\n",
       "    .dataframe thead th {\n",
       "        text-align: right;\n",
       "    }\n",
       "</style>\n",
       "<table border=\"1\" class=\"dataframe\">\n",
       "  <thead>\n",
       "    <tr style=\"text-align: right;\">\n",
       "      <th></th>\n",
       "      <th>Age</th>\n",
       "      <th>Cabin</th>\n",
       "      <th>Embarked</th>\n",
       "      <th>Fare</th>\n",
       "      <th>Name</th>\n",
       "      <th>Parch</th>\n",
       "      <th>PassengerId</th>\n",
       "      <th>Pclass</th>\n",
       "      <th>Sex</th>\n",
       "      <th>SibSp</th>\n",
       "      <th>Survived</th>\n",
       "      <th>Ticket</th>\n",
       "      <th>CatSex</th>\n",
       "      <th>CatEmbarked</th>\n",
       "      <th>CatAge</th>\n",
       "      <th>CatFare</th>\n",
       "    </tr>\n",
       "  </thead>\n",
       "  <tbody>\n",
       "    <tr>\n",
       "      <th>0</th>\n",
       "      <td>22.000000</td>\n",
       "      <td>NaN</td>\n",
       "      <td>S</td>\n",
       "      <td>7.2500</td>\n",
       "      <td>Braund, Mr. Owen Harris</td>\n",
       "      <td>0</td>\n",
       "      <td>1</td>\n",
       "      <td>3</td>\n",
       "      <td>male</td>\n",
       "      <td>1</td>\n",
       "      <td>0.0</td>\n",
       "      <td>A/5 21171</td>\n",
       "      <td>0</td>\n",
       "      <td>0</td>\n",
       "      <td>4</td>\n",
       "      <td>0.0</td>\n",
       "    </tr>\n",
       "    <tr>\n",
       "      <th>1</th>\n",
       "      <td>38.000000</td>\n",
       "      <td>C85</td>\n",
       "      <td>C</td>\n",
       "      <td>71.2833</td>\n",
       "      <td>Cumings, Mrs. John Bradley (Florence Briggs Th...</td>\n",
       "      <td>0</td>\n",
       "      <td>2</td>\n",
       "      <td>1</td>\n",
       "      <td>female</td>\n",
       "      <td>1</td>\n",
       "      <td>1.0</td>\n",
       "      <td>PC 17599</td>\n",
       "      <td>1</td>\n",
       "      <td>1</td>\n",
       "      <td>7</td>\n",
       "      <td>7.0</td>\n",
       "    </tr>\n",
       "    <tr>\n",
       "      <th>2</th>\n",
       "      <td>26.000000</td>\n",
       "      <td>NaN</td>\n",
       "      <td>S</td>\n",
       "      <td>7.9250</td>\n",
       "      <td>Heikkinen, Miss. Laina</td>\n",
       "      <td>0</td>\n",
       "      <td>3</td>\n",
       "      <td>3</td>\n",
       "      <td>female</td>\n",
       "      <td>0</td>\n",
       "      <td>1.0</td>\n",
       "      <td>STON/O2. 3101282</td>\n",
       "      <td>1</td>\n",
       "      <td>0</td>\n",
       "      <td>5</td>\n",
       "      <td>0.0</td>\n",
       "    </tr>\n",
       "    <tr>\n",
       "      <th>3</th>\n",
       "      <td>35.000000</td>\n",
       "      <td>C123</td>\n",
       "      <td>S</td>\n",
       "      <td>53.1000</td>\n",
       "      <td>Futrelle, Mrs. Jacques Heath (Lily May Peel)</td>\n",
       "      <td>0</td>\n",
       "      <td>4</td>\n",
       "      <td>1</td>\n",
       "      <td>female</td>\n",
       "      <td>1</td>\n",
       "      <td>1.0</td>\n",
       "      <td>113803</td>\n",
       "      <td>1</td>\n",
       "      <td>0</td>\n",
       "      <td>6</td>\n",
       "      <td>5.0</td>\n",
       "    </tr>\n",
       "    <tr>\n",
       "      <th>4</th>\n",
       "      <td>35.000000</td>\n",
       "      <td>NaN</td>\n",
       "      <td>S</td>\n",
       "      <td>8.0500</td>\n",
       "      <td>Allen, Mr. William Henry</td>\n",
       "      <td>0</td>\n",
       "      <td>5</td>\n",
       "      <td>3</td>\n",
       "      <td>male</td>\n",
       "      <td>0</td>\n",
       "      <td>0.0</td>\n",
       "      <td>373450</td>\n",
       "      <td>0</td>\n",
       "      <td>0</td>\n",
       "      <td>6</td>\n",
       "      <td>0.0</td>\n",
       "    </tr>\n",
       "    <tr>\n",
       "      <th>...</th>\n",
       "      <td>...</td>\n",
       "      <td>...</td>\n",
       "      <td>...</td>\n",
       "      <td>...</td>\n",
       "      <td>...</td>\n",
       "      <td>...</td>\n",
       "      <td>...</td>\n",
       "      <td>...</td>\n",
       "      <td>...</td>\n",
       "      <td>...</td>\n",
       "      <td>...</td>\n",
       "      <td>...</td>\n",
       "      <td>...</td>\n",
       "      <td>...</td>\n",
       "      <td>...</td>\n",
       "      <td>...</td>\n",
       "    </tr>\n",
       "    <tr>\n",
       "      <th>886</th>\n",
       "      <td>27.000000</td>\n",
       "      <td>NaN</td>\n",
       "      <td>S</td>\n",
       "      <td>13.0000</td>\n",
       "      <td>Montvila, Rev. Juozas</td>\n",
       "      <td>0</td>\n",
       "      <td>887</td>\n",
       "      <td>2</td>\n",
       "      <td>male</td>\n",
       "      <td>0</td>\n",
       "      <td>0.0</td>\n",
       "      <td>211536</td>\n",
       "      <td>0</td>\n",
       "      <td>0</td>\n",
       "      <td>5</td>\n",
       "      <td>1.0</td>\n",
       "    </tr>\n",
       "    <tr>\n",
       "      <th>887</th>\n",
       "      <td>19.000000</td>\n",
       "      <td>B42</td>\n",
       "      <td>S</td>\n",
       "      <td>30.0000</td>\n",
       "      <td>Graham, Miss. Margaret Edith</td>\n",
       "      <td>0</td>\n",
       "      <td>888</td>\n",
       "      <td>1</td>\n",
       "      <td>female</td>\n",
       "      <td>0</td>\n",
       "      <td>1.0</td>\n",
       "      <td>112053</td>\n",
       "      <td>1</td>\n",
       "      <td>0</td>\n",
       "      <td>3</td>\n",
       "      <td>2.0</td>\n",
       "    </tr>\n",
       "    <tr>\n",
       "      <th>888</th>\n",
       "      <td>23.576044</td>\n",
       "      <td>NaN</td>\n",
       "      <td>S</td>\n",
       "      <td>23.4500</td>\n",
       "      <td>Johnston, Miss. Catherine Helen \"Carrie\"</td>\n",
       "      <td>2</td>\n",
       "      <td>889</td>\n",
       "      <td>3</td>\n",
       "      <td>female</td>\n",
       "      <td>1</td>\n",
       "      <td>0.0</td>\n",
       "      <td>W./C. 6607</td>\n",
       "      <td>1</td>\n",
       "      <td>0</td>\n",
       "      <td>4</td>\n",
       "      <td>2.0</td>\n",
       "    </tr>\n",
       "    <tr>\n",
       "      <th>889</th>\n",
       "      <td>26.000000</td>\n",
       "      <td>C148</td>\n",
       "      <td>C</td>\n",
       "      <td>30.0000</td>\n",
       "      <td>Behr, Mr. Karl Howell</td>\n",
       "      <td>0</td>\n",
       "      <td>890</td>\n",
       "      <td>1</td>\n",
       "      <td>male</td>\n",
       "      <td>0</td>\n",
       "      <td>1.0</td>\n",
       "      <td>111369</td>\n",
       "      <td>0</td>\n",
       "      <td>1</td>\n",
       "      <td>5</td>\n",
       "      <td>2.0</td>\n",
       "    </tr>\n",
       "    <tr>\n",
       "      <th>890</th>\n",
       "      <td>32.000000</td>\n",
       "      <td>NaN</td>\n",
       "      <td>Q</td>\n",
       "      <td>7.7500</td>\n",
       "      <td>Dooley, Mr. Patrick</td>\n",
       "      <td>0</td>\n",
       "      <td>891</td>\n",
       "      <td>3</td>\n",
       "      <td>male</td>\n",
       "      <td>0</td>\n",
       "      <td>0.0</td>\n",
       "      <td>370376</td>\n",
       "      <td>0</td>\n",
       "      <td>2</td>\n",
       "      <td>6</td>\n",
       "      <td>0.0</td>\n",
       "    </tr>\n",
       "  </tbody>\n",
       "</table>\n",
       "<p>891 rows × 16 columns</p>\n",
       "</div>"
      ],
      "text/plain": [
       "           Age Cabin Embarked     Fare  \\\n",
       "0    22.000000   NaN        S   7.2500   \n",
       "1    38.000000   C85        C  71.2833   \n",
       "2    26.000000   NaN        S   7.9250   \n",
       "3    35.000000  C123        S  53.1000   \n",
       "4    35.000000   NaN        S   8.0500   \n",
       "..         ...   ...      ...      ...   \n",
       "886  27.000000   NaN        S  13.0000   \n",
       "887  19.000000   B42        S  30.0000   \n",
       "888  23.576044   NaN        S  23.4500   \n",
       "889  26.000000  C148        C  30.0000   \n",
       "890  32.000000   NaN        Q   7.7500   \n",
       "\n",
       "                                                  Name  Parch  PassengerId  \\\n",
       "0                              Braund, Mr. Owen Harris      0            1   \n",
       "1    Cumings, Mrs. John Bradley (Florence Briggs Th...      0            2   \n",
       "2                               Heikkinen, Miss. Laina      0            3   \n",
       "3         Futrelle, Mrs. Jacques Heath (Lily May Peel)      0            4   \n",
       "4                             Allen, Mr. William Henry      0            5   \n",
       "..                                                 ...    ...          ...   \n",
       "886                              Montvila, Rev. Juozas      0          887   \n",
       "887                       Graham, Miss. Margaret Edith      0          888   \n",
       "888           Johnston, Miss. Catherine Helen \"Carrie\"      2          889   \n",
       "889                              Behr, Mr. Karl Howell      0          890   \n",
       "890                                Dooley, Mr. Patrick      0          891   \n",
       "\n",
       "     Pclass     Sex  SibSp  Survived            Ticket  CatSex  CatEmbarked  \\\n",
       "0         3    male      1       0.0         A/5 21171       0            0   \n",
       "1         1  female      1       1.0          PC 17599       1            1   \n",
       "2         3  female      0       1.0  STON/O2. 3101282       1            0   \n",
       "3         1  female      1       1.0            113803       1            0   \n",
       "4         3    male      0       0.0            373450       0            0   \n",
       "..      ...     ...    ...       ...               ...     ...          ...   \n",
       "886       2    male      0       0.0            211536       0            0   \n",
       "887       1  female      0       1.0            112053       1            0   \n",
       "888       3  female      1       0.0        W./C. 6607       1            0   \n",
       "889       1    male      0       1.0            111369       0            1   \n",
       "890       3    male      0       0.0            370376       0            2   \n",
       "\n",
       "     CatAge  CatFare  \n",
       "0         4      0.0  \n",
       "1         7      7.0  \n",
       "2         5      0.0  \n",
       "3         6      5.0  \n",
       "4         6      0.0  \n",
       "..      ...      ...  \n",
       "886       5      1.0  \n",
       "887       3      2.0  \n",
       "888       4      2.0  \n",
       "889       5      2.0  \n",
       "890       6      0.0  \n",
       "\n",
       "[891 rows x 16 columns]"
      ]
     },
     "execution_count": 5,
     "metadata": {},
     "output_type": "execute_result"
    }
   ],
   "source": [
    "df = train_df = pd.read_csv(\"clean_train_titanic.csv\")\n",
    "df"
   ]
  },
  {
   "cell_type": "markdown",
   "id": "c8403a9a-6de5-4df6-9eee-3831d5d5497c",
   "metadata": {},
   "source": [
    "#### Ex 14.2"
   ]
  },
  {
   "cell_type": "code",
   "execution_count": 6,
   "id": "6855a112-e48b-446b-ae0c-bd076df335b3",
   "metadata": {},
   "outputs": [
    {
     "data": {
      "text/html": [
       "<div>\n",
       "<style scoped>\n",
       "    .dataframe tbody tr th:only-of-type {\n",
       "        vertical-align: middle;\n",
       "    }\n",
       "\n",
       "    .dataframe tbody tr th {\n",
       "        vertical-align: top;\n",
       "    }\n",
       "\n",
       "    .dataframe thead th {\n",
       "        text-align: right;\n",
       "    }\n",
       "</style>\n",
       "<table border=\"1\" class=\"dataframe\">\n",
       "  <thead>\n",
       "    <tr style=\"text-align: right;\">\n",
       "      <th></th>\n",
       "      <th>Parch</th>\n",
       "      <th>Pclass</th>\n",
       "      <th>SibSp</th>\n",
       "      <th>Survived</th>\n",
       "      <th>CatSex</th>\n",
       "      <th>CatEmbarked</th>\n",
       "      <th>CatAge</th>\n",
       "      <th>CatFare</th>\n",
       "    </tr>\n",
       "  </thead>\n",
       "  <tbody>\n",
       "    <tr>\n",
       "      <th>0</th>\n",
       "      <td>0</td>\n",
       "      <td>3</td>\n",
       "      <td>1</td>\n",
       "      <td>0.0</td>\n",
       "      <td>0</td>\n",
       "      <td>0</td>\n",
       "      <td>4</td>\n",
       "      <td>0.0</td>\n",
       "    </tr>\n",
       "    <tr>\n",
       "      <th>1</th>\n",
       "      <td>0</td>\n",
       "      <td>1</td>\n",
       "      <td>1</td>\n",
       "      <td>1.0</td>\n",
       "      <td>1</td>\n",
       "      <td>1</td>\n",
       "      <td>7</td>\n",
       "      <td>7.0</td>\n",
       "    </tr>\n",
       "    <tr>\n",
       "      <th>2</th>\n",
       "      <td>0</td>\n",
       "      <td>3</td>\n",
       "      <td>0</td>\n",
       "      <td>1.0</td>\n",
       "      <td>1</td>\n",
       "      <td>0</td>\n",
       "      <td>5</td>\n",
       "      <td>0.0</td>\n",
       "    </tr>\n",
       "    <tr>\n",
       "      <th>3</th>\n",
       "      <td>0</td>\n",
       "      <td>1</td>\n",
       "      <td>1</td>\n",
       "      <td>1.0</td>\n",
       "      <td>1</td>\n",
       "      <td>0</td>\n",
       "      <td>6</td>\n",
       "      <td>5.0</td>\n",
       "    </tr>\n",
       "    <tr>\n",
       "      <th>4</th>\n",
       "      <td>0</td>\n",
       "      <td>3</td>\n",
       "      <td>0</td>\n",
       "      <td>0.0</td>\n",
       "      <td>0</td>\n",
       "      <td>0</td>\n",
       "      <td>6</td>\n",
       "      <td>0.0</td>\n",
       "    </tr>\n",
       "    <tr>\n",
       "      <th>...</th>\n",
       "      <td>...</td>\n",
       "      <td>...</td>\n",
       "      <td>...</td>\n",
       "      <td>...</td>\n",
       "      <td>...</td>\n",
       "      <td>...</td>\n",
       "      <td>...</td>\n",
       "      <td>...</td>\n",
       "    </tr>\n",
       "    <tr>\n",
       "      <th>886</th>\n",
       "      <td>0</td>\n",
       "      <td>2</td>\n",
       "      <td>0</td>\n",
       "      <td>0.0</td>\n",
       "      <td>0</td>\n",
       "      <td>0</td>\n",
       "      <td>5</td>\n",
       "      <td>1.0</td>\n",
       "    </tr>\n",
       "    <tr>\n",
       "      <th>887</th>\n",
       "      <td>0</td>\n",
       "      <td>1</td>\n",
       "      <td>0</td>\n",
       "      <td>1.0</td>\n",
       "      <td>1</td>\n",
       "      <td>0</td>\n",
       "      <td>3</td>\n",
       "      <td>2.0</td>\n",
       "    </tr>\n",
       "    <tr>\n",
       "      <th>888</th>\n",
       "      <td>2</td>\n",
       "      <td>3</td>\n",
       "      <td>1</td>\n",
       "      <td>0.0</td>\n",
       "      <td>1</td>\n",
       "      <td>0</td>\n",
       "      <td>4</td>\n",
       "      <td>2.0</td>\n",
       "    </tr>\n",
       "    <tr>\n",
       "      <th>889</th>\n",
       "      <td>0</td>\n",
       "      <td>1</td>\n",
       "      <td>0</td>\n",
       "      <td>1.0</td>\n",
       "      <td>0</td>\n",
       "      <td>1</td>\n",
       "      <td>5</td>\n",
       "      <td>2.0</td>\n",
       "    </tr>\n",
       "    <tr>\n",
       "      <th>890</th>\n",
       "      <td>0</td>\n",
       "      <td>3</td>\n",
       "      <td>0</td>\n",
       "      <td>0.0</td>\n",
       "      <td>0</td>\n",
       "      <td>2</td>\n",
       "      <td>6</td>\n",
       "      <td>0.0</td>\n",
       "    </tr>\n",
       "  </tbody>\n",
       "</table>\n",
       "<p>891 rows × 8 columns</p>\n",
       "</div>"
      ],
      "text/plain": [
       "     Parch  Pclass  SibSp  Survived  CatSex  CatEmbarked  CatAge  CatFare\n",
       "0        0       3      1       0.0       0            0       4      0.0\n",
       "1        0       1      1       1.0       1            1       7      7.0\n",
       "2        0       3      0       1.0       1            0       5      0.0\n",
       "3        0       1      1       1.0       1            0       6      5.0\n",
       "4        0       3      0       0.0       0            0       6      0.0\n",
       "..     ...     ...    ...       ...     ...          ...     ...      ...\n",
       "886      0       2      0       0.0       0            0       5      1.0\n",
       "887      0       1      0       1.0       1            0       3      2.0\n",
       "888      2       3      1       0.0       1            0       4      2.0\n",
       "889      0       1      0       1.0       0            1       5      2.0\n",
       "890      0       3      0       0.0       0            2       6      0.0\n",
       "\n",
       "[891 rows x 8 columns]"
      ]
     },
     "execution_count": 6,
     "metadata": {},
     "output_type": "execute_result"
    }
   ],
   "source": [
    "df = df.drop(['PassengerId', 'Name', 'Sex', 'Age', 'Ticket', 'Fare', 'Cabin', 'Embarked'],axis=1)\n",
    "df"
   ]
  },
  {
   "cell_type": "markdown",
   "id": "0c32f806-c79a-43b0-bcb4-c18900635e57",
   "metadata": {},
   "source": [
    "#### Ex 14.3"
   ]
  },
  {
   "cell_type": "code",
   "execution_count": 7,
   "id": "07b26fc4-f698-462a-b20d-74dcd6f5aa64",
   "metadata": {},
   "outputs": [
    {
     "data": {
      "text/plain": [
       "<Axes: >"
      ]
     },
     "execution_count": 7,
     "metadata": {},
     "output_type": "execute_result"
    },
    {
     "data": {
      "image/png": "[encoded data removed]",
      "text/plain": [
       "<Figure size 800x600 with 2 Axes>"
      ]
     },
     "metadata": {},
     "output_type": "display_data"
    }
   ],
   "source": [
    "plt.figure(figsize=(8,6))\n",
    "sns.heatmap(df.corr(), vmax=0.6, square=True, annot=True)"
   ]
  },
  {
   "cell_type": "markdown",
   "id": "94c72e51-dfbc-463d-967c-a58f3c1d5484",
   "metadata": {},
   "source": [
    "#### Ex 14.4"
   ]
  },
  {
   "cell_type": "code",
   "execution_count": null,
   "id": "2fbef14d-e3c7-4284-9cbb-7e0b84724655",
   "metadata": {},
   "outputs": [],
   "source": [
    "plot_1d(x=_________)"
   ]
  },
  {
   "cell_type": "markdown",
   "id": "931f5d08-23b0-455e-b9de-3f870b10d9c7",
   "metadata": {},
   "source": [
    "#### Ex 14.5"
   ]
  },
  {
   "cell_type": "code",
   "execution_count": null,
   "id": "1982be3e-31a3-443d-a01e-c511326b9afa",
   "metadata": {},
   "outputs": [],
   "source": [
    "plot_2d(x=________, y=__________)"
   ]
  },
  {
   "cell_type": "markdown",
   "id": "9a9eeea3-d630-4ba0-b6ab-b67783174eaf",
   "metadata": {},
   "source": [
    "#### Ex 14.6"
   ]
  },
  {
   "cell_type": "code",
   "execution_count": null,
   "id": "dea77dde-64d0-4a67-95e4-4531efd04a4e",
   "metadata": {},
   "outputs": [],
   "source": [
    "fig, axs = plt.subplots(ncols=2, figsize=(15,5))\n",
    "axs[0].set_title('female')\n",
    "sns.countplot(x='Pclass', hue='Survived', data=train_df.loc[train_df['CatSex'] == True], ax=axs[0])\n",
    "axs[1].set_title('male')\n",
    "sns.countplot(x='Pclass', hue='Survived', data=train_df.loc[train_df['CatSex'] == False], ax=axs[1])"
   ]
  },
  {
   "cell_type": "markdown",
   "id": "ef65e5fd-28bc-4cd5-9a53-6e8413892514",
   "metadata": {},
   "source": [
    "#### Ex 14.7"
   ]
  },
  {
   "cell_type": "code",
   "execution_count": null,
   "id": "ad02c240-485b-4dfb-837f-59145e8d8df8",
   "metadata": {},
   "outputs": [],
   "source": [
    "plot_3d(________, ________, ________)"
   ]
  },
  {
   "cell_type": "markdown",
   "id": "c5dd1daa-1a9c-431f-8433-c4ab72a5f44d",
   "metadata": {},
   "source": [
    "#### Ex 14.8"
   ]
  },
  {
   "cell_type": "code",
   "execution_count": null,
   "id": "8cf83572-6ce7-4625-8136-553fea39ad95",
   "metadata": {},
   "outputs": [],
   "source": [
    "Columns = ['Parch', 'Pclass', 'SibSp', 'CatSex', 'CatEmbarked', 'CatAge', 'CatFare']\n",
    "Label = 'Survived'"
   ]
  },
  {
   "cell_type": "markdown",
   "id": "78a5a2f7-9f99-409d-8fa0-4f27e0aef6f6",
   "metadata": {},
   "source": [
    "#### Ex 14.9"
   ]
  },
  {
   "cell_type": "code",
   "execution_count": null,
   "id": "9b6c92dc-d0d1-40b9-93eb-993257201d48",
   "metadata": {},
   "outputs": [],
   "source": [
    "from sklearn.model_selection import train_test_split\n",
    "\n",
    "x = df[Columns]\n",
    "y = df[Label]\n",
    "\n",
    "train_x, test_x, train_y, test_y = train_test_split(x, y, test_size = 0.3, random_state = 5, stratify = y)"
   ]
  },
  {
   "cell_type": "markdown",
   "id": "1dad674f-862e-40fd-8853-c5dba84512c2",
   "metadata": {},
   "source": [
    "#### Ex 14.9.1"
   ]
  },
  {
   "cell_type": "code",
   "execution_count": null,
   "id": "572c9b01-a16c-4fc8-9138-44cc7c0046f7",
   "metadata": {},
   "outputs": [],
   "source": [
    "# Print the train X dataframe\n",
    "_______"
   ]
  },
  {
   "cell_type": "markdown",
   "id": "3034ac6e-fcf1-49b0-9596-d0280d266cdc",
   "metadata": {},
   "source": [
    "#### Ex 14.9.2"
   ]
  },
  {
   "cell_type": "code",
   "execution_count": null,
   "id": "c68aa965-e077-4008-9f2a-6360ce34b737",
   "metadata": {},
   "outputs": [],
   "source": [
    "# Print the test X dataframe\n",
    "_______"
   ]
  },
  {
   "cell_type": "markdown",
   "id": "76635e36-d16a-4819-8f6a-9d45d8899b1a",
   "metadata": {},
   "source": [
    "#### Ex 14.10"
   ]
  },
  {
   "cell_type": "code",
   "execution_count": null,
   "id": "a9237a3e-21f6-4c7f-8b17-95b435ca811f",
   "metadata": {},
   "outputs": [],
   "source": [
    "from sklearn.tree import DecisionTreeClassifier\n",
    "\n",
    "# Initialize and train Decision Tree classifier\n",
    "dt = DecisionTreeClassifier()\n",
    "dt.fit(train_x, train_y)"
   ]
  },
  {
   "cell_type": "markdown",
   "id": "cb34e9d8-a6d0-45ba-b516-74a234d3c5ba",
   "metadata": {},
   "source": [
    "#### Ex 14.10.1"
   ]
  },
  {
   "cell_type": "code",
   "execution_count": null,
   "id": "9179b04c-b767-47e0-9125-a5db37040171",
   "metadata": {},
   "outputs": [],
   "source": [
    "# Get feature importances\n",
    "importances = dt.feature_importances_\n",
    "indices = np.argsort(importances)[::-1]\n",
    "\n",
    "# Plot\n",
    "plt.figure()\n",
    "plt.title(\"Feature Importances\")\n",
    "plt.bar(range(train_x.shape[1]), importances[indices],\n",
    "       color=\"r\", align=\"center\")\n",
    "plt.xticks(range(train_x.shape[1]), train_x.columns[indices], rotation='vertical')\n",
    "plt.xlim([-1, train_x.shape[1]])\n",
    "plt.show()"
   ]
  },
  {
   "cell_type": "markdown",
   "id": "6f5f4115-6a96-4f46-bea3-c4f7c568f496",
   "metadata": {},
   "source": [
    "#### Ex 14.10.2"
   ]
  },
  {
   "cell_type": "code",
   "execution_count": null,
   "id": "4168a6e6-c366-401d-bd3f-d786f66bebbc",
   "metadata": {},
   "outputs": [],
   "source": [
    "plot_3d(_______, _______, _______)"
   ]
  },
  {
   "cell_type": "markdown",
   "id": "d84a81d7-f3cb-4c32-91aa-da4fea49d0d6",
   "metadata": {},
   "source": [
    "#### Ex 14.10.3"
   ]
  },
  {
   "cell_type": "code",
   "execution_count": null,
   "id": "e6dcab0c-7165-4419-9a23-c9aacdcbec0c",
   "metadata": {},
   "outputs": [],
   "source": [
    "dt.score(test_x, test_y)"
   ]
  },
  {
   "cell_type": "markdown",
   "id": "92f49d3a-db23-4cc6-859b-1a486a94326c",
   "metadata": {},
   "source": [
    "#### Ex 14.10.4"
   ]
  },
  {
   "cell_type": "code",
   "execution_count": null,
   "id": "60a88dac-44c5-47a8-be2a-6bfbe4ff1aa1",
   "metadata": {},
   "outputs": [],
   "source": [
    "plot_predictions('CatSex', 'CatAge', 'Pclass', model=dt, df_x=test_x, df_y=test_y)"
   ]
  },
  {
   "cell_type": "markdown",
   "id": "0cd508b3-34af-485d-8b14-f0f93b9f7053",
   "metadata": {},
   "source": [
    "#### Ex 14.10.5"
   ]
  },
  {
   "cell_type": "code",
   "execution_count": null,
   "id": "bc7364fb-51e4-4448-ad90-02910af80907",
   "metadata": {},
   "outputs": [],
   "source": [
    "plot_predictions('CatSex', 'CatAge', 'Pclass', model=dt, df_x=train_x, df_y=train_y)"
   ]
  },
  {
   "cell_type": "markdown",
   "id": "ebd366f2-e721-4c00-8349-0ac16c704a68",
   "metadata": {},
   "source": [
    "#### Ex 14.10.6"
   ]
  },
  {
   "cell_type": "code",
   "execution_count": null,
   "id": "947474cf-184c-400a-a698-70bec9351151",
   "metadata": {},
   "outputs": [],
   "source": [
    "from sklearn import tree\n",
    "fig = plt.figure(figsize=(10,8))\n",
    "_ = tree.plot_tree(dt, feature_names=Columns, filled=True)"
   ]
  },
  {
   "cell_type": "markdown",
   "id": "fc14e1ca-b31b-40b5-bb66-2f7199d14779",
   "metadata": {},
   "source": [
    "#### Ex 14.11"
   ]
  },
  {
   "cell_type": "code",
   "execution_count": null,
   "id": "debffb27-248a-482b-abc7-3f850ecfdd8e",
   "metadata": {},
   "outputs": [],
   "source": [
    "from sklearn.ensemble import RandomForestClassifier\n",
    "rf = RandomForestClassifier()\n",
    "\n",
    "rf.fit(train_x, train_y)"
   ]
  },
  {
   "cell_type": "markdown",
   "id": "c630423b-d54d-44a8-bf04-bd74035abb46",
   "metadata": {},
   "source": [
    "#### Ex 14.11.1"
   ]
  },
  {
   "cell_type": "code",
   "execution_count": null,
   "id": "47ebad4d-a867-47eb-a6bd-6e450ead1597",
   "metadata": {},
   "outputs": [],
   "source": [
    "# Get feature importances\n",
    "importances = rf.feature_importances_\n",
    "indices = np.argsort(importances)[::-1]\n",
    "\n",
    "# Plot\n",
    "plt.figure()\n",
    "plt.title(\"Feature Importances\")\n",
    "plt.bar(range(train_x.shape[1]), importances[indices],\n",
    "       color=\"r\", align=\"center\")\n",
    "plt.xticks(range(train_x.shape[1]), train_x.columns[indices], rotation='vertical')\n",
    "plt.xlim([-1, train_x.shape[1]])\n",
    "plt.show()"
   ]
  },
  {
   "cell_type": "markdown",
   "id": "c2957d54-8acc-49a7-b9d9-a8f3213bcbad",
   "metadata": {},
   "source": [
    "#### Ex 14.11.2"
   ]
  },
  {
   "cell_type": "code",
   "execution_count": null,
   "id": "6fec0557-c4dd-451d-8663-534ba3e37c3d",
   "metadata": {},
   "outputs": [],
   "source": [
    "plot_3d(_______, _______, _______)"
   ]
  },
  {
   "cell_type": "markdown",
   "id": "9f5c0877-efe0-4861-9918-6a73d03fbda2",
   "metadata": {},
   "source": [
    "#### Ex 14.11.3"
   ]
  },
  {
   "cell_type": "code",
   "execution_count": null,
   "id": "d6c5910e-1794-4616-bb0a-602c6101720a",
   "metadata": {},
   "outputs": [],
   "source": [
    "rf.score(test_x, test_y)"
   ]
  },
  {
   "cell_type": "markdown",
   "id": "a66f4fa3-1236-45e7-96bc-c0e112eb14dc",
   "metadata": {},
   "source": [
    "#### Ex 14.11.4"
   ]
  },
  {
   "cell_type": "code",
   "execution_count": null,
   "id": "599b69da-35f4-4c02-977b-7c2514d3962b",
   "metadata": {},
   "outputs": [],
   "source": [
    "plot_predictions('CatSex', 'CatAge', 'CatFare', model=rf, df_x=test_x, df_y=test_y)"
   ]
  },
  {
   "cell_type": "markdown",
   "id": "b4297c0a-f406-481d-ad7c-c5336c909cec",
   "metadata": {},
   "source": [
    "#### Ex 14.11.5"
   ]
  },
  {
   "cell_type": "code",
   "execution_count": null,
   "id": "4aeaa076-87ca-4368-bcbf-17bc02216b91",
   "metadata": {},
   "outputs": [],
   "source": [
    "plot_predictions('CatSex', 'CatAge', 'CatFare', model=rf, df_x=train_x, df_y=train_y)"
   ]
  },
  {
   "cell_type": "markdown",
   "id": "ff3fd849-f927-4a14-a526-ca18c17579c8",
   "metadata": {},
   "source": [
    "#### Ex 14.12"
   ]
  },
  {
   "cell_type": "code",
   "execution_count": null,
   "id": "ddc256eb-119c-43cc-821f-5f2e2938915f",
   "metadata": {},
   "outputs": [],
   "source": [
    "from sklearn.svm import SVC\n",
    "\n",
    "# Initialize and train SVM classifier\n",
    "svm = SVC()\n",
    "svm.fit(train_x, train_y)"
   ]
  },
  {
   "cell_type": "markdown",
   "id": "8c36bf74-60b3-4f1c-9a9b-bbe5ab96446b",
   "metadata": {},
   "source": [
    "#### Ex 14.12.1"
   ]
  },
  {
   "cell_type": "code",
   "execution_count": null,
   "id": "3ddcf468-00fe-4c86-a6b9-976b6a8aa74c",
   "metadata": {},
   "outputs": [],
   "source": [
    "from sklearn.inspection import permutation_importance\n",
    "\n",
    "# Assuming you have already trained your SVC model\n",
    "perm_importance = permutation_importance(svm, test_x, test_y)\n",
    "sorted_idx = perm_importance.importances_mean.argsort()\n",
    "\n",
    "plt.barh(range(len(sorted_idx)), perm_importance.importances_mean[sorted_idx], align='center')\n",
    "plt.yticks(range(len(sorted_idx)), train_x.columns[sorted_idx])\n",
    "plt.xlabel('Permutation Importance')\n",
    "plt.title('Feature Importance (Permutation)')\n",
    "plt.show()"
   ]
  },
  {
   "cell_type": "markdown",
   "id": "b4678fe2-be92-4b75-9e0e-1bad0cbd69d5",
   "metadata": {},
   "source": [
    "#### Ex 14.12.2"
   ]
  },
  {
   "cell_type": "code",
   "execution_count": null,
   "id": "fcc410f2-c3bd-4fb4-adb9-3f87bc8f99bc",
   "metadata": {},
   "outputs": [],
   "source": [
    "# Evaluate the classifier\n",
    "svm_score = svm.score(test_x, test_y)\n",
    "print(\"SVM Classifier Score:\", svm_score)"
   ]
  },
  {
   "cell_type": "markdown",
   "id": "d3576eb3-91d5-4dbc-8176-cd6b98896c2f",
   "metadata": {},
   "source": [
    "#### Ex 14.12.3"
   ]
  },
  {
   "cell_type": "code",
   "execution_count": null,
   "id": "5cf93300-648c-4aea-8d39-d03fcaaafb52",
   "metadata": {},
   "outputs": [],
   "source": [
    "plot_predictions('CatSex', 'CatAge', 'SibSp', model=svm, df_x=test_x, df_y=test_y)"
   ]
  },
  {
   "cell_type": "markdown",
   "id": "df93df57-6042-46a8-b534-6f76a918b175",
   "metadata": {},
   "source": [
    "#### Ex 14.12.4"
   ]
  },
  {
   "cell_type": "code",
   "execution_count": null,
   "id": "c613343b-10a8-41f4-8908-4381a4646dea",
   "metadata": {},
   "outputs": [],
   "source": [
    "plot_predictions('CatSex', 'CatAge', 'SibSp', model=svm, df_x=train_x, df_y=train_y)"
   ]
  },
  {
   "cell_type": "markdown",
   "id": "82910ffe-626b-4022-a9f0-3e67c9fa3a39",
   "metadata": {},
   "source": [
    "#### Ex 14.13"
   ]
  },
  {
   "cell_type": "code",
   "execution_count": null,
   "id": "4584ffb7-5eeb-45e3-ba4b-bd31b1b2c1f9",
   "metadata": {},
   "outputs": [],
   "source": [
    "from sklearn.neighbors import KNeighborsClassifier\n",
    "\n",
    "# Initialize and train KNN classifier\n",
    "knn = KNeighborsClassifier()\n",
    "knn.fit(train_x, train_y)"
   ]
  },
  {
   "cell_type": "markdown",
   "id": "a1df778e-8497-4bf0-bae3-5977c891b3da",
   "metadata": {},
   "source": [
    "#### Ex 14.13.1"
   ]
  },
  {
   "cell_type": "code",
   "execution_count": null,
   "id": "3f43a69a-587b-46d8-8479-0eceafe4cd65",
   "metadata": {},
   "outputs": [],
   "source": [
    "from sklearn.inspection import permutation_importance\n",
    "\n",
    "# Assuming you have already trained your KNN model\n",
    "perm_importance = permutation_importance(knn, test_x, test_y)\n",
    "sorted_idx = perm_importance.importances_mean.argsort()\n",
    "\n",
    "plt.barh(range(len(sorted_idx)), perm_importance.importances_mean[sorted_idx], align='center')\n",
    "plt.yticks(range(len(sorted_idx)), train_x.columns[sorted_idx])\n",
    "plt.xlabel('Permutation Importance')\n",
    "plt.title('Feature Importance (Permutation)')\n",
    "plt.show()\n"
   ]
  },
  {
   "cell_type": "markdown",
   "id": "c6c81866-63ca-43fb-b21a-35bbb0d0c9e2",
   "metadata": {},
   "source": [
    "#### Ex 14.13.2"
   ]
  },
  {
   "cell_type": "code",
   "execution_count": null,
   "id": "fd49190c-0ae3-44e8-8409-276a60a92750",
   "metadata": {},
   "outputs": [],
   "source": [
    "# Evaluate the classifier\n",
    "knn_score = knn.score(test_x, test_y)\n",
    "print(\"KNN Classifier Score:\", knn_score)"
   ]
  },
  {
   "cell_type": "markdown",
   "id": "a4346d8b-9655-4401-b416-6030d0854a2d",
   "metadata": {},
   "source": [
    "#### Ex 14.13.3"
   ]
  },
  {
   "cell_type": "code",
   "execution_count": null,
   "id": "5b040cf3-b397-4575-80ef-5c83f02dbc5b",
   "metadata": {},
   "outputs": [],
   "source": [
    "plot_predictions('CatSex', 'CatAge', 'CatFare', model=knn, df_x=test_x, df_y=test_y)"
   ]
  },
  {
   "cell_type": "markdown",
   "id": "6cb79c22-6d9a-4226-b7b4-ec1354179372",
   "metadata": {},
   "source": [
    "#### Ex 14.13.4"
   ]
  },
  {
   "cell_type": "code",
   "execution_count": null,
   "id": "0dd33a52-20e9-4c41-a191-bb62146a7a0f",
   "metadata": {},
   "outputs": [],
   "source": [
    "plot_predictions('CatSex', 'CatAge', 'CatFare', model=knn, df_x=train_x, df_y=train_y)"
   ]
  },
  {
   "cell_type": "code",
   "execution_count": null,
   "id": "8911b1d1-1c93-4a66-bb4b-af6ff29971fd",
   "metadata": {},
   "outputs": [],
   "source": []
  }
 ],
 "metadata": {
  "kernelspec": {
   "display_name": "Python 3 (ipykernel)",
   "language": "python",
   "name": "python3"
  },
  "language_info": {
   "codemirror_mode": {
    "name": "ipython",
    "version": 3
   },
   "file_extension": ".py",
   "mimetype": "text/x-python",
   "name": "python",
   "nbconvert_exporter": "python",
   "pygments_lexer": "ipython3",
   "version": "3.8.10"
  }
 },
 "nbformat": 4,
 "nbformat_minor": 5
}
