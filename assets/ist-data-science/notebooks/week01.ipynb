{
 "cells": [
  {
   "cell_type": "code",
   "execution_count": null,
   "id": "d33abf4b-1927-42f6-9b9e-6575be7b5bbb",
   "metadata": {},
   "outputs": [],
   "source": [
    "print(\"Hello World!\")"
   ]
  },
  {
   "cell_type": "code",
   "execution_count": null,
   "id": "b8ee1cc9-0e50-4bb1-9fe1-2aeac5940c9d",
   "metadata": {},
   "outputs": [],
   "source": [
    "x = 43\n",
    "print(x)"
   ]
  },
  {
   "cell_type": "code",
   "execution_count": null,
   "id": "5d608cdf-235a-40f4-8192-b2e574dc228a",
   "metadata": {},
   "outputs": [],
   "source": [
    "y = 4.62\n",
    "z = 5.11\n",
    "print(y + z)"
   ]
  },
  {
   "cell_type": "code",
   "execution_count": null,
   "id": "7a151760-740d-48ca-81b8-eff31660942a",
   "metadata": {},
   "outputs": [],
   "source": []
  }
 ],
 "metadata": {
  "kernelspec": {
   "display_name": "Python 3 (ipykernel)",
   "language": "python",
   "name": "python3"
  },
  "language_info": {
   "codemirror_mode": {
    "name": "ipython",
    "version": 3
   },
   "file_extension": ".py",
   "mimetype": "text/x-python",
   "name": "python",
   "nbconvert_exporter": "python",
   "pygments_lexer": "ipython3",
   "version": "3.8.10"
  }
 },
 "nbformat": 4,
 "nbformat_minor": 5
}
