{
 "cells": [
  {
   "cell_type": "markdown",
   "id": "58a1c952-5d6d-4ee1-b634-466ec3f89d58",
   "metadata": {},
   "source": [
    "#### Ex 12.0"
   ]
  },
  {
   "cell_type": "code",
   "execution_count": null,
   "id": "c44585f5-d21f-4dad-8e66-a5e017f5cb75",
   "metadata": {},
   "outputs": [],
   "source": [
    "import pandas as pd\n",
    "import numpy as np"
   ]
  },
  {
   "cell_type": "markdown",
   "id": "44b741f3-a574-4bdc-93e8-a6b125487c1f",
   "metadata": {},
   "source": [
    "#### Ex 12.1"
   ]
  },
  {
   "cell_type": "code",
   "execution_count": null,
   "id": "54462a39-ab37-4706-8a12-349d20289d68",
   "metadata": {},
   "outputs": [],
   "source": [
    "df = pd.read_csv(\"titanic_dataset.csv\")\n",
    "df"
   ]
  },
  {
   "cell_type": "markdown",
   "id": "7bcb9149-5928-4104-be71-f3f8a0f69033",
   "metadata": {},
   "source": [
    "____\n",
    "\n",
    "# Recap Topics\n",
    "\n",
    "### Boolean Indexing\n",
    "\n",
    "Select all passengers older than 30:\n",
    "```python\n",
    "df[df[\"Age\"] > 30]\n",
    "```\n",
    "\n",
    "Select all passengers in first class:\n",
    "```python\n",
    "df[df[\"Pclass\"] == 1]\n",
    "```\n",
    "\n",
    "### Chain-Indexing\n",
    "\n",
    "Use `|` for **OR**, use `&` for **AND**.\n",
    "Must use together with brackets.\n",
    "\n",
    "Passengers that are **either** in 1st class **or** in second class:\n",
    "```python\n",
    "df[(df[\"Pclass\"] == 1) | (df[\"Pclass\"] == 2)]\n",
    "```\n",
    "\n",
    "Passengers that are in 1st class **and** and younger than 18:\n",
    "```python\n",
    "df[(df[\"Pclass\"] == 1) & (df[\"Age\"] < 18)]\n",
    "```\n",
    "\n",
    "### Data-Analysis\n",
    "\n",
    "You may use either of `.mean()`, `.count()`, `.max()` or `.min()`.\n",
    "\n",
    "Get the maximum fare paid by passengers:\n",
    "```python\n",
    "df[\"Fare\"].max()\n",
    "```\n",
    "\n",
    "Get the minimum age of passengers which have survived:\n",
    "```python\n",
    "df[df[\"Survived\"] == 1][\"Age\"].min()\n",
    "```\n",
    "\n",
    "### Grouping\n",
    "\n",
    "Get the number of passengers embarked from each harbour:\n",
    "```python\n",
    "df.groupby(\"Embarked\")[\"Name\"].count()\n",
    "```\n",
    "\n",
    "Get the percentage of people that survived for each passenger class:\n",
    "```python\n",
    "df.groupby(\"Pclass\")[\"Survived\"].mean()\n",
    "```\n",
    "\n",
    "### Using it all together\n",
    "\n",
    "1. First we use boolean indexing\n",
    "2. Secondly we use grouping\n",
    "3. Finally we use data analysis functions\n",
    "\n",
    "Get the number of passengers, aged below 18, that survived, grouped by each passenger class:\n",
    "```python\n",
    "df[df[\"Age\"] < 18].groupby(\"Pclass\")[\"Survived\"].count()\n",
    "```"
   ]
  },
  {
   "cell_type": "markdown",
   "id": "a51fa664-9c8c-477b-8c61-c04ae55710fc",
   "metadata": {},
   "source": [
    "___\n",
    "\n",
    "#### Ex 12.2\n",
    "\n",
    "Select passengers who are females *and* traveled in first class.\n",
    "\n",
    "**HINT**: Use boolean indexing"
   ]
  },
  {
   "cell_type": "code",
   "execution_count": null,
   "id": "6e1b15dc-0463-4f20-aab7-c69fffbe9151",
   "metadata": {},
   "outputs": [],
   "source": []
  },
  {
   "cell_type": "markdown",
   "id": "efe48d3d-d396-4b9d-83a3-bd2d5590ea60",
   "metadata": {},
   "source": [
    "___\n",
    "\n",
    "#### Ex 12.3\n",
    "\n",
    "Find the average fare paid by passengers in each class.\n",
    "\n",
    "**HINT**: Use grouping"
   ]
  },
  {
   "cell_type": "code",
   "execution_count": null,
   "id": "65264f5c-3ef4-4947-bb20-d68d00819048",
   "metadata": {},
   "outputs": [],
   "source": []
  },
  {
   "cell_type": "markdown",
   "id": "578737bd-8a8f-46b7-9ebe-9b83eefdb28e",
   "metadata": {},
   "source": [
    "___\n",
    "\n",
    "#### Ex 12.4\n",
    "\n",
    "Find the maximum age of male passengers who perished in the Titanic disaster.\n",
    "\n",
    "**HINT**: Use boolean indexing"
   ]
  },
  {
   "cell_type": "code",
   "execution_count": null,
   "id": "c0fcf5d6-e888-4033-b7b7-6b33f0a09ff5",
   "metadata": {},
   "outputs": [],
   "source": []
  },
  {
   "cell_type": "markdown",
   "id": "3835c663-0e93-4a2c-9d50-693b66c5597e",
   "metadata": {},
   "source": [
    "____\n",
    "\n",
    "#### Ex 12.5\n",
    "\n",
    "Calculate the count of passengers in each class who did not survive.\n",
    "\n",
    "**HINT**: Use boolean indexing *and* grouping"
   ]
  },
  {
   "cell_type": "code",
   "execution_count": null,
   "id": "5f9cccb4-bb1a-44bd-a5d1-c804e2d4c9ad",
   "metadata": {},
   "outputs": [],
   "source": []
  },
  {
   "cell_type": "markdown",
   "id": "7a69c854-60b8-4a27-b006-578ccd1f94f5",
   "metadata": {},
   "source": [
    "____\n",
    "\n",
    "#### Ex 12.5.1 (Extension!)\n",
    "\n",
    "Find the average fare of female passengers who did not survive, grouped by their class"
   ]
  },
  {
   "cell_type": "code",
   "execution_count": null,
   "id": "bf95bfbc-dcc1-48b4-9b03-6d31055a5e2f",
   "metadata": {},
   "outputs": [],
   "source": []
  },
  {
   "cell_type": "markdown",
   "id": "0835c5f8-9586-4e5d-b22d-9f96a2b1ed87",
   "metadata": {},
   "source": [
    "___\n",
    "\n",
    "#### Ex 12.5.2 (Extension!)\n",
    "\n",
    "Calculate the total fare collected from passengers under the age of 30, grouped by their survival status (survived or did not survive)."
   ]
  },
  {
   "cell_type": "code",
   "execution_count": null,
   "id": "082ba76a-af7d-4cf8-8db0-6e9a446240f5",
   "metadata": {},
   "outputs": [],
   "source": []
  },
  {
   "cell_type": "markdown",
   "id": "c8ccc083-5d02-447f-919d-547ffee19d76",
   "metadata": {},
   "source": [
    "___\n",
    "#### Ex 12.6"
   ]
  },
  {
   "cell_type": "code",
   "execution_count": null,
   "id": "2ed1d1db-468a-4307-a2cd-0eedc3852484",
   "metadata": {},
   "outputs": [],
   "source": []
  },
  {
   "cell_type": "markdown",
   "id": "7b64b3c8-5bfe-4dd1-8f33-5c7751440613",
   "metadata": {},
   "source": [
    "#### Ex 12.7"
   ]
  },
  {
   "cell_type": "code",
   "execution_count": null,
   "id": "6038427e-359f-45f8-b487-429cf75a2807",
   "metadata": {},
   "outputs": [],
   "source": []
  },
  {
   "cell_type": "markdown",
   "id": "d10c53a7-275c-42cf-b27e-f4c5f6d49afe",
   "metadata": {},
   "source": [
    "___\n",
    "\n",
    "#### Ex 12.8\n",
    "\n",
    "Plot the total number of Passengers by Embarkation Point"
   ]
  },
  {
   "cell_type": "code",
   "execution_count": null,
   "id": "59a720a0-168e-4339-a21b-44f5ae6d4efe",
   "metadata": {},
   "outputs": [],
   "source": []
  },
  {
   "cell_type": "markdown",
   "id": "a610b364-c14c-41a3-853d-d6e4ed4c4dcc",
   "metadata": {},
   "source": [
    "#### Ex 12.9\n",
    "\n",
    "Plot the total Fare collected from each Passenger Class"
   ]
  },
  {
   "cell_type": "code",
   "execution_count": null,
   "id": "5b3e76d4-1405-4bf7-9e1b-c4e5dca282e3",
   "metadata": {},
   "outputs": [],
   "source": []
  },
  {
   "cell_type": "markdown",
   "id": "6b165d1d-5994-44ba-a9ae-a5fc1ca5450b",
   "metadata": {},
   "source": [
    "#### Ex 12.9.1 (Extension!)\n",
    "\n",
    "Plot the average number of Parents/Children aboard (`Parch`) by Passenger Class"
   ]
  },
  {
   "cell_type": "code",
   "execution_count": null,
   "id": "46073096-a1d3-4b00-a358-508b70a1891f",
   "metadata": {},
   "outputs": [],
   "source": []
  },
  {
   "cell_type": "markdown",
   "id": "f8af2087-2454-4560-803b-b923ab1a0ecd",
   "metadata": {},
   "source": [
    "#### Ex 12.9.2 (Extension!)\n",
    "\n",
    "Plot the average Fare Paid by Survivors vs. Non-Survivors (both over 30 years of age)"
   ]
  },
  {
   "cell_type": "code",
   "execution_count": null,
   "id": "ea9c9164-7ad7-4bbc-b6ca-720e048ba292",
   "metadata": {},
   "outputs": [],
   "source": []
  },
  {
   "cell_type": "markdown",
   "id": "18950412-2bfe-4159-b9e6-d60bd345fc13",
   "metadata": {},
   "source": [
    "___\n",
    "#### Ex 12.10"
   ]
  },
  {
   "cell_type": "code",
   "execution_count": null,
   "id": "9a91bfab-112f-47ad-9931-b2dc704cce1c",
   "metadata": {},
   "outputs": [],
   "source": []
  },
  {
   "cell_type": "markdown",
   "id": "ebe1cbd4-61b5-4db8-a94a-35a02771a354",
   "metadata": {},
   "source": [
    "#### Ex 12.11"
   ]
  },
  {
   "cell_type": "code",
   "execution_count": null,
   "id": "3687c1b5-bf2e-47ce-bd81-2f85a9971b8d",
   "metadata": {},
   "outputs": [],
   "source": []
  },
  {
   "cell_type": "markdown",
   "id": "b447f132-1ec4-449a-8c50-63f24f017d84",
   "metadata": {},
   "source": [
    "___\n",
    "#### Ex 12.12"
   ]
  },
  {
   "cell_type": "code",
   "execution_count": null,
   "id": "47e89d94-22dc-41c2-9390-c4ef25b26cc3",
   "metadata": {},
   "outputs": [],
   "source": []
  },
  {
   "cell_type": "markdown",
   "id": "db3b060c-6a49-4aa5-ae7f-6d12b43e3dee",
   "metadata": {},
   "source": [
    "#### Ex 12.13"
   ]
  },
  {
   "cell_type": "code",
   "execution_count": null,
   "id": "a9af28bd-d088-4f75-9f11-b8ff750725e0",
   "metadata": {},
   "outputs": [],
   "source": []
  },
  {
   "cell_type": "markdown",
   "id": "5dadf5b0-0414-479a-92d2-7ac78e979e32",
   "metadata": {},
   "source": [
    "#### Ex 12.14"
   ]
  },
  {
   "cell_type": "code",
   "execution_count": null,
   "id": "f4ccea50-2b9f-4784-adde-e7b0b9be37f0",
   "metadata": {},
   "outputs": [],
   "source": []
  },
  {
   "cell_type": "markdown",
   "id": "090a5c93-46b0-419f-b449-90cf756f6156",
   "metadata": {},
   "source": [
    "____\n",
    "#### Ex 12.15\n",
    "\n",
    "Display the total number of survivors for each passenger class\n",
    "\n",
    "**HINT**: Use a bar-chart"
   ]
  },
  {
   "cell_type": "code",
   "execution_count": null,
   "id": "140be82f-10ac-4693-98db-d3fd437ff278",
   "metadata": {},
   "outputs": [],
   "source": []
  },
  {
   "cell_type": "markdown",
   "id": "d0299f0f-4849-453a-97ee-4294e26f9f8d",
   "metadata": {},
   "source": [
    "___\n",
    "#### Ex 12.16\n",
    "\n",
    "Display the number of siblings (y-axis) each passenger had based on their age (x-Axis)\n",
    "\n",
    "What insights do you gather?"
   ]
  },
  {
   "cell_type": "code",
   "execution_count": null,
   "id": "d71a9326-9837-4014-9b00-6ddf566059e9",
   "metadata": {},
   "outputs": [],
   "source": []
  },
  {
   "cell_type": "markdown",
   "id": "b7a1d54e-f8e1-4c09-8f77-c5b491ec1621",
   "metadata": {},
   "source": [
    "___\n",
    "#### Ex 12.16.1 (Extension!)\n",
    "\n",
    "Adjust exercise 12.17 to discriminate by Passenger class. Which passenger classes had more siblings on board? In which age groups?\n",
    "\n",
    "What if you analyse the `Parch` column instead for Parent-child relationships?"
   ]
  },
  {
   "cell_type": "code",
   "execution_count": null,
   "id": "464fa331-9f11-4d6f-beff-c80403fba9ca",
   "metadata": {},
   "outputs": [],
   "source": []
  }
 ],
 "metadata": {
  "kernelspec": {
   "display_name": "Python 3 (ipykernel)",
   "language": "python",
   "name": "python3"
  },
  "language_info": {
   "codemirror_mode": {
    "name": "ipython",
    "version": 3
   },
   "file_extension": ".py",
   "mimetype": "text/x-python",
   "name": "python",
   "nbconvert_exporter": "python",
   "pygments_lexer": "ipython3",
   "version": "3.8.10"
  }
 },
 "nbformat": 4,
 "nbformat_minor": 5
}
