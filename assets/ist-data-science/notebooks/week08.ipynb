{
 "cells": [
  {
   "cell_type": "markdown",
   "id": "f15ec315-e145-47fc-8688-43754396bc87",
   "metadata": {},
   "source": [
    "# Lists"
   ]
  },
  {
   "cell_type": "markdown",
   "id": "c0ce3e48-656b-4009-b2a6-7c15c27a802b",
   "metadata": {},
   "source": [
    "**Creating a list**:\n",
    "\n",
    "```python\n",
    "my_list = [2, 6, 9, 12]\n",
    "data = [\"hello\", \"world\", \"!\"]\n",
    "```\n",
    "\n",
    "**Modifying lists**:\n",
    "\n",
    "```python\n",
    "nums = [42, 100]\n",
    "\n",
    "nums.append(8)\n",
    "nums.insert(0, 200)\n",
    "nums.append(51)\n",
    "\n",
    "print(nums)\n",
    "```\n",
    "\n",
    "**Accessing list elements**:\n",
    "\n",
    "```python\n",
    "nums = [4, 78, 3, 9]\n",
    "\n",
    "print(nums[2])\n",
    "print(nums[-1])\n",
    "\n",
    "```\n",
    "\n",
    "**Concatenating Lists**:\n",
    "\n",
    "```python\n",
    "left = [1, 2, 3]\n",
    "right = [4, 5, 6]\n",
    "\n",
    "new = left + right\n",
    "print(new)\n",
    "```\n",
    "\n",
    "**Removing items from Lists**:\n",
    "\n",
    "```python\n",
    "data = [4, 8, 12, 16, 20]\n",
    "\n",
    "num1 = data.pop(2)\n",
    "num2 = data.pop(-2)\n",
    "\n",
    "print(data)\n",
    "\n",
    "```\n",
    "\n",
    "**Iterating Lists**:\n",
    "\n",
    "1) Index-iteration\n",
    "\n",
    "```python\n",
    "nums = [10, 20, 30, 40]\n",
    "\n",
    "for i in range(len(nums)):\n",
    "   print(nums[i])\n",
    "```\n",
    "\n",
    "2) For-each loop\n",
    "\n",
    "```python\n",
    "nums = [10, 20, 30, 40]\n",
    "\n",
    "for num in nums:\n",
    "   print(num)\n",
    "```\n",
    "\n",
    "**Membership**:\n",
    "\n",
    "```python\n",
    "# Check if item is in List:\n",
    "data1 = [\"a\", \"b\", \"c\"]\n",
    "x = \"b\"\n",
    "\n",
    "print(x in data1)\n",
    "```"
   ]
  },
  {
   "cell_type": "markdown",
   "id": "ac8347f2-1945-4f68-b909-daa0aa528ff6",
   "metadata": {},
   "source": [
    "___\n",
    "# Dictionaries"
   ]
  },
  {
   "cell_type": "markdown",
   "id": "601ba8d0-d07a-47c0-a246-e8fc58b4d41e",
   "metadata": {},
   "source": [
    "**Creating a dictionary**:\n",
    "\n",
    "```python\n",
    "nums = {\"num1\": 42, \"num2\": 100, \"num3\": 8}\n",
    "data = {\"foo\": 8.2, 100: \"bar\"}\n",
    "\n",
    "print(nums)\n",
    "print(data)\n",
    "```\n",
    "\n",
    "**Accessing dictionary elements**:\n",
    "\n",
    "```python\n",
    "heights = {\"Charles\": 175, \"Adam\": 160, \"Florence\": 180}\n",
    "\n",
    "print(heights[\"Adam\"])\n",
    "print(heights[\"Florence\"])\n",
    "```\n",
    "\n",
    "**Modifying dictionaries**:\n",
    "\n",
    "```python\n",
    "data = {\"a\": 42, \"b\": 3}\n",
    "\n",
    "\n",
    "# Adding new keys:\n",
    "data[\"c\"] = 800\n",
    "data[\"d\"] = 4.5\n",
    "print(data)\n",
    "\n",
    "# Modifying values of existing keys:\n",
    "data[\"a\"] = 10\n",
    "data[\"b\"] = 3.2\n",
    "print(data)\n",
    "\n",
    "```\n",
    "\n",
    "**Deleting dictionary entries**:\n",
    "\n",
    "```python\n",
    "data = {\"a\": 42, \"b\": 3, \"c\": 100}\n",
    "\n",
    "del data[\"a\"]\n",
    "del data[\"c\"]\n",
    "print(data)\n",
    "```\n",
    "\n",
    "**Iterating Dictionaries**:\n",
    "\n",
    "1) Key-iteration\n",
    "\n",
    "```python\n",
    "data = {\"a\": 4, \"f\": 1, \"z\": 8}\n",
    "\n",
    "for key in data:\n",
    "   value = data[key]\n",
    "   print(key, value)\n",
    "```\n",
    "\n",
    "2) For-each loop\n",
    "\n",
    "```python\n",
    "data = {\"a\": 4, \"f\": 1, \"z\": 8}\n",
    "\n",
    "for key, value in data.items():\n",
    "  print(key, value)\n",
    "```\n",
    "\n",
    "**Membership**:\n",
    "\n",
    "```python\n",
    "# Check if key is in Dictionary:\n",
    "data3 = {\"a\": 10, \"b\": 20}\n",
    "z = \"b\"\n",
    "\n",
    "print(z in data3)\n",
    "```"
   ]
  },
  {
   "cell_type": "markdown",
   "id": "89327c1a-961d-412c-b23f-ce690de12fed",
   "metadata": {},
   "source": [
    "___\n",
    "# Sets"
   ]
  },
  {
   "cell_type": "markdown",
   "id": "f64c6be3-9cd5-49d7-9269-69236c70b912",
   "metadata": {},
   "source": [
    "\n",
    "**Creating a set**:\n",
    "\n",
    "```python\n",
    "nums = {42, 100, 42}\n",
    "data = {\"A\", \"C\", \"D\"}\n",
    "\n",
    "print(nums)\n",
    "print(data)\n",
    "```\n",
    "\n",
    "**Add elements to a set**:\n",
    "\n",
    "```python\n",
    "nums = {42, 100}\n",
    "\n",
    "nums.add(8)\n",
    "```\n",
    "\n",
    "**Remove elements from a set**:\n",
    "\n",
    "```python\n",
    "nums = {42, 100}\n",
    "\n",
    "nums.remove(100)\n",
    "```\n",
    "\n",
    "**Set Theory**:\n",
    "\n",
    "```python\n",
    "set1 = {\"A\", \"B\", \"C\"}\n",
    "set2 = {\"B\", \"C\", \"D\"}\n",
    "\n",
    "# Union:\n",
    "print(set1 | set2)\n",
    "\n",
    "# Intersection\n",
    "print(set1 & set2)\n",
    "\n",
    "# Difference\n",
    "print(set1 - set2)\n",
    "```\n"
   ]
  },
  {
   "cell_type": "markdown",
   "id": "b258bf67-c1da-47aa-91e4-7b6b38eab09f",
   "metadata": {},
   "source": [
    "**Iterating Sets**:\n",
    "\n",
    "```python\n",
    "nums = {40, 10, 30, 20}\n",
    "\n",
    "for num in nums:\n",
    "   print(num)\n",
    "```"
   ]
  },
  {
   "cell_type": "markdown",
   "id": "9ae50fb5-f450-4a19-a5af-db910c814760",
   "metadata": {},
   "source": [
    "**Membership**:\n",
    "\n",
    "```python\n",
    "# Check if item is in Set:\n",
    "data2 = {\"a\", \"b\", \"c\"}\n",
    "y = \"b\"\n",
    "\n",
    "print(y in data2)\n",
    "```"
   ]
  },
  {
   "cell_type": "markdown",
   "id": "a39cc682-6706-4f68-8893-88914e596101",
   "metadata": {},
   "source": [
    "___\n",
    "\n",
    "# Functions"
   ]
  },
  {
   "cell_type": "markdown",
   "id": "b58b8b48-7a25-4bf0-ba7c-feec4a6d7b23",
   "metadata": {},
   "source": [
    "**Function with no arguments**:\n",
    "```python\n",
    "def create_list():\n",
    "   return [2, 9, 4]\n",
    "\n",
    "```\n",
    "\n",
    "**Function of one argument**:\n",
    "```python\n",
    "def add_100(a):\n",
    "   return a + 100\n",
    "```\n",
    "\n",
    "**Function of two arguments**:\n",
    "```python\n",
    "def multiply(a, b):\n",
    "   return a * b\n",
    "```\n",
    "\n",
    "**Calling a function**:\n",
    "```python\n",
    "def is_even(n):\n",
    "   return n % 2 == 0\n",
    "\n",
    "x = is_even(2)\n",
    "print(x)\n",
    "```\n"
   ]
  },
  {
   "cell_type": "markdown",
   "id": "38ee177c-4575-4cf4-8b0f-f6878ce202de",
   "metadata": {},
   "source": [
    "___\n",
    "#### Ex 8.0\n",
    "\n",
    "Create a function `multiply_by_five` that takes an integer as an argument and returns the product of that integer and 5."
   ]
  },
  {
   "cell_type": "code",
   "execution_count": null,
   "id": "77f25116-e5f9-4ecc-b7a6-779028e4c762",
   "metadata": {},
   "outputs": [],
   "source": [
    "def multiply_by_five(num):\n",
    "    return _______\n",
    "\n",
    "# Testing the implementation:\n",
    "print(multiply_by_five(2))\n",
    "print(multiply_by_five(10))\n",
    "print(multiply_by_five(0))"
   ]
  },
  {
   "cell_type": "markdown",
   "id": "2eb68f56-c84a-44aa-b313-6be05d0f9cd7",
   "metadata": {},
   "source": [
    "___\n",
    "#### Ex 8.1\n",
    "\n",
    "Write a function `add_two_numbers` that takes two numbers as arguments and returns their sum."
   ]
  },
  {
   "cell_type": "code",
   "execution_count": null,
   "id": "2bc81aa6-bd94-498b-bf53-bf212d0a468e",
   "metadata": {},
   "outputs": [],
   "source": [
    "def add_two_numbers(num1, num2):\n",
    "    return _______\n",
    "\n",
    "# Testing the implementation:\n",
    "print(add_two_numbers(1, 2))\n",
    "print(add_two_numbers(10, -5))\n",
    "print(add_two_numbers(0, 0))"
   ]
  },
  {
   "cell_type": "markdown",
   "id": "dec92173-6397-4ab9-82d7-0c37c3af0ca4",
   "metadata": {},
   "source": [
    "___\n",
    "#### Ex 8.2\n",
    "\n",
    "Develop a function `is_odd` that takes an integer as input and returns `True` if the number is odd, and `False` otherwise.\n"
   ]
  },
  {
   "cell_type": "code",
   "execution_count": null,
   "id": "a205e247-92ff-4fd2-afce-3828c61490e5",
   "metadata": {},
   "outputs": [],
   "source": [
    "def is_odd(num):\n",
    "    return _______\n",
    "\n",
    "# Testing the implementation:\n",
    "print(is_odd(1))\n",
    "print(is_odd(7))\n",
    "print(is_odd(4))"
   ]
  },
  {
   "cell_type": "markdown",
   "id": "7888f4ab-193c-409d-a83b-11d8378017bb",
   "metadata": {},
   "source": [
    "#### Ex 8.2.1 (Extension!)\n",
    "\n",
    "Enhance the `is_odd` function to handle a list of numbers. Your task is to:\n",
    "\n",
    "1. Modify the `is_odd` function so that it takes a list of integers as input. (NOTE: also change the parameter name from `num` to `nums`).\n",
    "2. For each number in the list, check if it is odd. If it is, add it to a new list called `odd_numbers`.\n",
    "3. Return the `odd_numbers` list at the end of the function.\n",
    "\n",
    "Test your function with a list of random integers to verify its functionality.\n"
   ]
  },
  {
   "cell_type": "markdown",
   "id": "5dc4b2f7-b5f4-4ecf-9920-9e4505bfccf1",
   "metadata": {},
   "source": [
    "___\n",
    "#### Ex 8.3\n",
    "\n",
    "Write a function `max_of_two` that takes two numbers as arguments and returns the larger of the two.\n",
    "\n",
    "**HINT**: You may wish to use an `if` statement "
   ]
  },
  {
   "cell_type": "code",
   "execution_count": null,
   "id": "ebb9fda5-1c05-49f2-b1ae-15f91c739556",
   "metadata": {},
   "outputs": [],
   "source": [
    "def max_of_two(num1, num2):\n",
    "    _______\n",
    "\n",
    "# Testing the implementation:\n",
    "print(max_of_two(1, 2))\n",
    "print(max_of_two(10, -5))\n",
    "print(max_of_two(0, 0))"
   ]
  },
  {
   "cell_type": "markdown",
   "id": "72787055-f444-490e-a087-a2610b58d0ec",
   "metadata": {},
   "source": [
    "___\n",
    "\n",
    "#### Ex 8.4\n",
    "\n",
    "Create a function `square_number` that takes an integer as an argument and returns the square of that number."
   ]
  },
  {
   "cell_type": "code",
   "execution_count": null,
   "id": "baed9266-9f97-4857-87f7-f20e9c5d793f",
   "metadata": {},
   "outputs": [],
   "source": [
    "def square_number(num):\n",
    "    _______\n",
    "\n",
    "# Testing the implementation:\n",
    "print(square_number(3))\n",
    "print(square_number(4))\n",
    "print(square_number(-2))"
   ]
  },
  {
   "cell_type": "markdown",
   "id": "d6fa9ce0-72e0-4a14-a923-c9842b183484",
   "metadata": {},
   "source": [
    "___\n",
    "\n",
    "#### Ex 8.5\n",
    "\n",
    "Write a function `sum_of_list` that takes a list of integers as an argument and returns the sum numbers in the list.\n",
    "\n",
    "**NOTE**: You *must* use a `for-each`loop for this exercise\n"
   ]
  },
  {
   "cell_type": "code",
   "execution_count": null,
   "id": "7ca15ffc-3003-4775-974d-9f5af6ea2043",
   "metadata": {},
   "outputs": [],
   "source": [
    "def sum_of_list(numbers):\n",
    "    _______\n",
    "\n",
    "# Testing the implementation:\n",
    "print(sum_of_list([1, 2, 3]))\n",
    "print(sum_of_list([0, 2, -2]))\n",
    "print(sum_of_list([10, 10, 20]))"
   ]
  },
  {
   "cell_type": "markdown",
   "id": "cf7e8b9d-a8bd-4d32-80b0-2e6d7f6812e8",
   "metadata": {},
   "source": [
    "#### Ex 8.5.1 (Extension!)\n",
    "\n",
    "1. Create a new function `sum_of_squares` that takes a list of integers as an argument and returns the sum of the squares of each number in the list.\n",
    "1. Once the above step is complete and tested, modify the `sum_of_squares` function to accept a second parameter, `threshold`. The function should only consider numbers less than this threshold for squaring.\n",
    "\n",
    "Test the extended function with different lists and threshold values to ensure accuracy and robustness.\n"
   ]
  }
 ],
 "metadata": {
  "kernelspec": {
   "display_name": "Python 3 (ipykernel)",
   "language": "python",
   "name": "python3"
  },
  "language_info": {
   "codemirror_mode": {
    "name": "ipython",
    "version": 3
   },
   "file_extension": ".py",
   "mimetype": "text/x-python",
   "name": "python",
   "nbconvert_exporter": "python",
   "pygments_lexer": "ipython3",
   "version": "3.8.10"
  }
 },
 "nbformat": 4,
 "nbformat_minor": 5
}
